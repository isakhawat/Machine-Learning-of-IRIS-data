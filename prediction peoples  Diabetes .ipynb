{
  "nbformat": 4,
  "nbformat_minor": 0,
  "metadata": {
    "colab": {
      "name": "ML for Diabetes (20+ algorithm applied) .ipynb",
      "provenance": [],
      "toc_visible": true
    },
    "kernelspec": {
      "name": "python3",
      "display_name": "Python 3"
    }
  },
  "cells": [
    {
      "cell_type": "markdown",
      "metadata": {
        "id": "NQEDg8mcQh-k",
        "colab_type": "text"
      },
      "source": [
        "# **Families of ML algorithms**\n",
        "\n",
        "There are several categories for machine learning algorithms, below are some of these categories:\n",
        "\n",
        "**Linear**\n",
        "\n",
        "1.Linear Regression\n",
        "\n",
        "2.Logistic Regression\n",
        "\n",
        "3.Support Vector Machines\n",
        "\n",
        "**Tree-Based**\n",
        "\n",
        "1. Decision Tree\n",
        "\n",
        "2.Random Forest\n",
        "\n",
        "3.GBDT\n",
        "\n",
        "KNN\n",
        "\n",
        "Neural Networks\n",
        "\n",
        "**And if we want to categorize ML algorithms with the type of learning, there are below type:**\n",
        "\n",
        "**Classification**\n",
        "\n",
        "k-Nearest Neighbors\n",
        "LinearRegression\n",
        "SVM\n",
        "DT\n",
        "NN\n",
        "\n",
        "**clustering**\n",
        "\n",
        "1.K-means\n",
        "\n",
        "2.HCA\n",
        "\n",
        "3.Expectation Maximization\n",
        "\n",
        "**Visualization and dimensionality reduction:**\n",
        "\n",
        "Principal Component Analysis(PCA)\n",
        "Kernel PCA\n",
        "Locally -Linear Embedding (LLE)\n",
        "t-distributed Stochastic Neighbor Embedding (t-SNE)\n",
        "**Association rule learning**\n",
        "\n",
        "Apriori\n",
        "Eclat\n",
        "\n",
        "**Semisupervised learning**\n",
        "\n",
        "**Reinforcement Learning**\n",
        "\n",
        "Q-learning  \n",
        "\n",
        "**Batch learning & Online learning**\n",
        "Ensemble Learning"
      ]
    },
    {
      "cell_type": "markdown",
      "metadata": {
        "id": "y4irQVtS9fDi",
        "colab_type": "text"
      },
      "source": [
        "**source**\n",
        "\n",
        "https://www.kaggle.com/ranjeetjain3/visualization-machine-learning-deep-learning#-Description\n",
        "\n",
        "# **import**"
      ]
    },
    {
      "cell_type": "code",
      "metadata": {
        "id": "rsl1a9GeDlqK",
        "colab_type": "code",
        "outputId": "5e72f1d0-9280-458f-e029-f058876e9969",
        "cellView": "both",
        "colab": {
          "base_uri": "https://localhost:8080/",
          "height": 16
        }
      },
      "source": [
        "#@title All library \n",
        " #%matplotlib inline = show plots in Jupyter Notebook browser\n",
        "%matplotlib inline\n",
        "\n",
        " #foundational package for scientific computing\n",
        "import numpy as np\n",
        "\n",
        "#collection of functions for data processing and analysis modeled after R dataframes with SQL like features\n",
        "import pandas as pd\n",
        "\n",
        "#collection of functions for scientific and publication-ready visualization\n",
        "import matplotlib.pyplot as plt\n",
        "\n",
        "#Visualization\n",
        "import seaborn as sns\n",
        "\n",
        "#collection of functions for scientific computing and advance mathematics\n",
        "import scipy as sp\n",
        "\n",
        "#collection of plot\n",
        "import plotly.offline as py\n",
        "from plotly.offline import init_notebook_mode, iplot\n",
        "import plotly.graph_objs as go\n",
        "from plotly import tools\n",
        "init_notebook_mode(connected=True)  \n",
        "import plotly.figure_factory as ff\n",
        "\n",
        "#collection of machine learning algorithms\n",
        "from sklearn.model_selection import train_test_split\n",
        "from sklearn.metrics import classification_report\n",
        "from sklearn.linear_model import LinearRegression\n",
        "from sklearn.metrics import accuracy_score\n",
        "from sklearn.metrics import confusion_matrix\n",
        "\n",
        "#Common Model Helpers\n",
        "from sklearn.preprocessing import LabelEncoder\n",
        "from sklearn import metrics\n",
        "from sklearn import model_selection\n",
        "import pylab as pl\n",
        "\n",
        "\n",
        "\n",
        "\n",
        "from sklearn.model_selection import train_test_split\n",
        "from sklearn.linear_model import LogisticRegression\n",
        "from sklearn.svm import SVC\n",
        "from sklearn.naive_bayes import GaussianNB\n",
        "from sklearn.tree import DecisionTreeClassifier\n",
        "from sklearn.ensemble import RandomForestClassifier, ExtraTreesClassifier\n",
        "from sklearn.neighbors import KNeighborsClassifier\n",
        "from lightgbm import LGBMClassifier\n",
        "from sklearn.metrics import  accuracy_score\n",
        "\n",
        "import xgboost as xgb\n",
        "import lightgbm as  lgb\n",
        "#from xgboost.sklearn import XGBClassifier\n",
        "#from catboost import CatBoostClassifier\n",
        " \n",
        " \n",
        "  \n",
        "  \n",
        "  \n",
        "#ignore warnings\n",
        "import warnings\n",
        "warnings.filterwarnings('ignore')"
      ],
      "execution_count": 0,
      "outputs": [
        {
          "output_type": "display_data",
          "data": {
            "text/html": [
              "        <script type=\"text/javascript\">\n",
              "        window.PlotlyConfig = {MathJaxConfig: 'local'};\n",
              "        if (window.MathJax) {MathJax.Hub.Config({SVG: {font: \"STIX-Web\"}});}\n",
              "        if (typeof require !== 'undefined') {\n",
              "        require.undef(\"plotly\");\n",
              "        requirejs.config({\n",
              "            paths: {\n",
              "                'plotly': ['https://cdn.plot.ly/plotly-latest.min']\n",
              "            }\n",
              "        });\n",
              "        require(['plotly'], function(Plotly) {\n",
              "            window._Plotly = Plotly;\n",
              "        });\n",
              "        }\n",
              "        </script>\n",
              "        "
            ]
          },
          "metadata": {
            "tags": []
          }
        }
      ]
    },
    {
      "cell_type": "markdown",
      "metadata": {
        "id": "FvFeQX-QO5Kd",
        "colab_type": "text"
      },
      "source": [
        "Load Data"
      ]
    },
    {
      "cell_type": "code",
      "metadata": {
        "id": "HrTf9cwkO2nY",
        "colab_type": "code",
        "colab": {}
      },
      "source": [
        "data =  pd.read_csv('diabetes.csv')"
      ],
      "execution_count": 0,
      "outputs": []
    },
    {
      "cell_type": "code",
      "metadata": {
        "id": "XCvI23FHO2sY",
        "colab_type": "code",
        "outputId": "df39f599-9da0-4aad-acd7-74fe8e14d321",
        "colab": {
          "base_uri": "https://localhost:8080/",
          "height": 197
        }
      },
      "source": [
        "data.head()"
      ],
      "execution_count": 0,
      "outputs": [
        {
          "output_type": "execute_result",
          "data": {
            "text/html": [
              "<div>\n",
              "<style scoped>\n",
              "    .dataframe tbody tr th:only-of-type {\n",
              "        vertical-align: middle;\n",
              "    }\n",
              "\n",
              "    .dataframe tbody tr th {\n",
              "        vertical-align: top;\n",
              "    }\n",
              "\n",
              "    .dataframe thead th {\n",
              "        text-align: right;\n",
              "    }\n",
              "</style>\n",
              "<table border=\"1\" class=\"dataframe\">\n",
              "  <thead>\n",
              "    <tr style=\"text-align: right;\">\n",
              "      <th></th>\n",
              "      <th>Pregnancies</th>\n",
              "      <th>Glucose</th>\n",
              "      <th>BloodPressure</th>\n",
              "      <th>SkinThickness</th>\n",
              "      <th>Insulin</th>\n",
              "      <th>BMI</th>\n",
              "      <th>DiabetesPedigreeFunction</th>\n",
              "      <th>Age</th>\n",
              "      <th>Outcome</th>\n",
              "    </tr>\n",
              "  </thead>\n",
              "  <tbody>\n",
              "    <tr>\n",
              "      <th>0</th>\n",
              "      <td>6</td>\n",
              "      <td>148</td>\n",
              "      <td>72</td>\n",
              "      <td>35</td>\n",
              "      <td>0</td>\n",
              "      <td>33.6</td>\n",
              "      <td>0.627</td>\n",
              "      <td>50</td>\n",
              "      <td>1</td>\n",
              "    </tr>\n",
              "    <tr>\n",
              "      <th>1</th>\n",
              "      <td>1</td>\n",
              "      <td>85</td>\n",
              "      <td>66</td>\n",
              "      <td>29</td>\n",
              "      <td>0</td>\n",
              "      <td>26.6</td>\n",
              "      <td>0.351</td>\n",
              "      <td>31</td>\n",
              "      <td>0</td>\n",
              "    </tr>\n",
              "    <tr>\n",
              "      <th>2</th>\n",
              "      <td>8</td>\n",
              "      <td>183</td>\n",
              "      <td>64</td>\n",
              "      <td>0</td>\n",
              "      <td>0</td>\n",
              "      <td>23.3</td>\n",
              "      <td>0.672</td>\n",
              "      <td>32</td>\n",
              "      <td>1</td>\n",
              "    </tr>\n",
              "    <tr>\n",
              "      <th>3</th>\n",
              "      <td>1</td>\n",
              "      <td>89</td>\n",
              "      <td>66</td>\n",
              "      <td>23</td>\n",
              "      <td>94</td>\n",
              "      <td>28.1</td>\n",
              "      <td>0.167</td>\n",
              "      <td>21</td>\n",
              "      <td>0</td>\n",
              "    </tr>\n",
              "    <tr>\n",
              "      <th>4</th>\n",
              "      <td>0</td>\n",
              "      <td>137</td>\n",
              "      <td>40</td>\n",
              "      <td>35</td>\n",
              "      <td>168</td>\n",
              "      <td>43.1</td>\n",
              "      <td>2.288</td>\n",
              "      <td>33</td>\n",
              "      <td>1</td>\n",
              "    </tr>\n",
              "  </tbody>\n",
              "</table>\n",
              "</div>"
            ],
            "text/plain": [
              "   Pregnancies  Glucose  BloodPressure  ...  DiabetesPedigreeFunction  Age  Outcome\n",
              "0            6      148             72  ...                     0.627   50        1\n",
              "1            1       85             66  ...                     0.351   31        0\n",
              "2            8      183             64  ...                     0.672   32        1\n",
              "3            1       89             66  ...                     0.167   21        0\n",
              "4            0      137             40  ...                     2.288   33        1\n",
              "\n",
              "[5 rows x 9 columns]"
            ]
          },
          "metadata": {
            "tags": []
          },
          "execution_count": 4
        }
      ]
    },
    {
      "cell_type": "code",
      "metadata": {
        "id": "rpH8wzglO2zH",
        "colab_type": "code",
        "outputId": "a1c9a2be-6292-4ee1-810d-5d73ddbba6c3",
        "colab": {
          "base_uri": "https://localhost:8080/",
          "height": 34
        }
      },
      "source": [
        "print(data.shape)"
      ],
      "execution_count": 0,
      "outputs": [
        {
          "output_type": "stream",
          "text": [
            "(768, 9)\n"
          ],
          "name": "stdout"
        }
      ]
    },
    {
      "cell_type": "code",
      "metadata": {
        "id": "Xcrwje0qO2vz",
        "colab_type": "code",
        "outputId": "9233f9a6-dec3-4c75-88e1-9680d9e4d818",
        "colab": {
          "base_uri": "https://localhost:8080/",
          "height": 255
        }
      },
      "source": [
        "data.info()"
      ],
      "execution_count": 0,
      "outputs": [
        {
          "output_type": "stream",
          "text": [
            "<class 'pandas.core.frame.DataFrame'>\n",
            "RangeIndex: 768 entries, 0 to 767\n",
            "Data columns (total 9 columns):\n",
            "Pregnancies                 768 non-null int64\n",
            "Glucose                     768 non-null int64\n",
            "BloodPressure               768 non-null int64\n",
            "SkinThickness               768 non-null int64\n",
            "Insulin                     768 non-null int64\n",
            "BMI                         768 non-null float64\n",
            "DiabetesPedigreeFunction    768 non-null float64\n",
            "Age                         768 non-null int64\n",
            "Outcome                     768 non-null int64\n",
            "dtypes: float64(2), int64(7)\n",
            "memory usage: 54.1 KB\n"
          ],
          "name": "stdout"
        }
      ]
    },
    {
      "cell_type": "markdown",
      "metadata": {
        "id": "inByr0jsPcPi",
        "colab_type": "text"
      },
      "source": [
        "# **Missing data**\n"
      ]
    },
    {
      "cell_type": "code",
      "metadata": {
        "id": "6A95x_nXDvMw",
        "colab_type": "code",
        "outputId": "adad5309-4f07-48b0-ee97-7238112a0b88",
        "colab": {
          "base_uri": "https://localhost:8080/",
          "height": 47
        }
      },
      "source": [
        "\n",
        "#Amount of data missing by columns\n",
        "missing = [(c, data[c].isna().mean()*100) for c in data]\n",
        "missing = pd.DataFrame(missing, columns=[\"column_name\", \"percentage\"])\n",
        "missing = missing[missing.percentage > 0]\n",
        "display(missing.sort_values(\"percentage\", ascending=False))"
      ],
      "execution_count": 0,
      "outputs": [
        {
          "output_type": "display_data",
          "data": {
            "text/html": [
              "<div>\n",
              "<style scoped>\n",
              "    .dataframe tbody tr th:only-of-type {\n",
              "        vertical-align: middle;\n",
              "    }\n",
              "\n",
              "    .dataframe tbody tr th {\n",
              "        vertical-align: top;\n",
              "    }\n",
              "\n",
              "    .dataframe thead th {\n",
              "        text-align: right;\n",
              "    }\n",
              "</style>\n",
              "<table border=\"1\" class=\"dataframe\">\n",
              "  <thead>\n",
              "    <tr style=\"text-align: right;\">\n",
              "      <th></th>\n",
              "      <th>column_name</th>\n",
              "      <th>percentage</th>\n",
              "    </tr>\n",
              "  </thead>\n",
              "  <tbody>\n",
              "  </tbody>\n",
              "</table>\n",
              "</div>"
            ],
            "text/plain": [
              "Empty DataFrame\n",
              "Columns: [column_name, percentage]\n",
              "Index: []"
            ]
          },
          "metadata": {
            "tags": []
          }
        }
      ]
    },
    {
      "cell_type": "markdown",
      "metadata": {
        "id": "rVxniKq2QfnH",
        "colab_type": "text"
      },
      "source": [
        "# **Data Cleaning**\n"
      ]
    },
    {
      "cell_type": "code",
      "metadata": {
        "id": "PsWAvf9lQgIO",
        "colab_type": "code",
        "outputId": "e72ed6e0-db60-480c-aa77-833f7ee3f01e",
        "colab": {
          "base_uri": "https://localhost:8080/",
          "height": 204
        }
      },
      "source": [
        "print('Diabetes columns with null values: {} \\n' .format( data.isnull().sum()))\n"
      ],
      "execution_count": 0,
      "outputs": [
        {
          "output_type": "stream",
          "text": [
            "Diabetes columns with null values: Pregnancies                 0\n",
            "Glucose                     0\n",
            "BloodPressure               0\n",
            "SkinThickness               0\n",
            "Insulin                     0\n",
            "BMI                         0\n",
            "DiabetesPedigreeFunction    0\n",
            "Age                         0\n",
            "Outcome                     0\n",
            "dtype: int64 \n",
            "\n"
          ],
          "name": "stdout"
        }
      ]
    },
    {
      "cell_type": "code",
      "metadata": {
        "id": "f4y6KUlrQl_m",
        "colab_type": "code",
        "colab": {}
      },
      "source": [
        "data.describe()"
      ],
      "execution_count": 0,
      "outputs": []
    },
    {
      "cell_type": "markdown",
      "metadata": {
        "id": "DJUkLVypRSX-",
        "colab_type": "text"
      },
      "source": [
        "# **Visualization**\n",
        "\n",
        "some graphical representation of information and data.\n",
        "\n",
        "\n"
      ]
    },
    {
      "cell_type": "code",
      "metadata": {
        "id": "qq69Vq9vYRxs",
        "colab_type": "code",
        "colab": {}
      },
      "source": [
        "corelation = data.corr()\n",
        "data = [go.Heatmap(z = np.array(corelation.values),\n",
        "                   x = np.array(corelation.columns),\n",
        "                   y = np.array(corelation.columns),\n",
        "                     colorscale='Blackbody',)\n",
        "       ]\n",
        "py.iplot(data)"
      ],
      "execution_count": 0,
      "outputs": []
    },
    {
      "cell_type": "code",
      "metadata": {
        "id": "6s2hVbjXQmHK",
        "colab_type": "code",
        "outputId": "9e0dd37a-8af7-4c6e-9e73-41cb4754f26f",
        "colab": {
          "base_uri": "https://localhost:8080/",
          "height": 300
        }
      },
      "source": [
        " sns.countplot(x=\"Outcome\", data=data)  # How many people survived\n",
        "  "
      ],
      "execution_count": 0,
      "outputs": [
        {
          "output_type": "execute_result",
          "data": {
            "text/plain": [
              "<matplotlib.axes._subplots.AxesSubplot at 0x7fab0253fc50>"
            ]
          },
          "metadata": {
            "tags": []
          },
          "execution_count": 22
        },
        {
          "output_type": "display_data",
          "data": {
            "image/png": "[encoded data removed]",
            "text/plain": [
              "<Figure size 432x288 with 1 Axes>"
            ]
          },
          "metadata": {
            "tags": []
          }
        }
      ]
    },
    {
      "cell_type": "code",
      "metadata": {
        "id": "aKnbVeRcQmK6",
        "colab_type": "code",
        "colab": {}
      },
      "source": [
        "#graph individual features by survival\n",
        "fig, saxis = plt.subplots(2, 2,figsize=(16,12))\n",
        "\n",
        "sns.countplot(x='Outcome', hue=\"Pregnancies\", data=data,ax = saxis[0,0])   \n",
        "#sns.countplot(x='Outcome', hue=\"Glucose\", data=data,ax = saxis[0,1])\n",
        "#sns.countplot(x=\"Outcome\", hue=\"BloodPressure\", data=data, ax = saxis[1,0])\n",
        "sns.countplot(x=\"Outcome\", hue=\"SkinThickness\", data=data, ax = saxis[1,1])\n",
        "sns.countplot(x=\"Outcome\", hue=\"Insulin\", data=data, ax = saxis[1,1])\n",
        "#sns.countplot(x=\"Outcome\", hue=\"BMI\", data=data, ax = saxis[1,1])\n",
        "#sns.countplot(x=\"Outcome\", hue=\"DiabetesPedigreeFunction\", data=data, ax = saxis[1,1])\n",
        "#sns.countplot(x=\"Outcome\", hue=\"Age\", data=data, ax = saxis[1,1])\n"
      ],
      "execution_count": 0,
      "outputs": []
    },
    {
      "cell_type": "code",
      "metadata": {
        "id": "JoDDMQkFTZ-P",
        "colab_type": "code",
        "outputId": "01ee1c88-fcfb-4c42-8b9d-710fa2cafd44",
        "colab": {
          "base_uri": "https://localhost:8080/",
          "height": 741
        }
      },
      "source": [
        "#graph individual features by survival\n",
        "fig, saxis = plt.subplots(2, 2,figsize=(16,12))\n",
        "sns.countplot(x='Outcome', hue=\"Pregnancies\", data=data,ax = saxis[0,0])\n",
        " "
      ],
      "execution_count": 0,
      "outputs": [
        {
          "output_type": "execute_result",
          "data": {
            "text/plain": [
              "<matplotlib.axes._subplots.AxesSubplot at 0x7faafaf40940>"
            ]
          },
          "metadata": {
            "tags": []
          },
          "execution_count": 28
        },
        {
          "output_type": "display_data",
          "data": {
            "image/png": "[encoded data removed]",
            "text/plain": [
              "<Figure size 1152x864 with 4 Axes>"
            ]
          },
          "metadata": {
            "tags": []
          }
        }
      ]
    },
    {
      "cell_type": "code",
      "metadata": {
        "id": "-TmsqlaPQmEb",
        "colab_type": "code",
        "colab": {}
      },
      "source": [
        "#plot distributions of age of passengers who survived or did not survive\n",
        "a = sns.FacetGrid( data, hue = 'Outcome', aspect=4 )\n",
        "a.map(sns.kdeplot, 'Age', shade= True )\n",
        "a.set(xlim=(0 , data['Age'].max()))\n",
        "a.add_legend()"
      ],
      "execution_count": 0,
      "outputs": []
    },
    {
      "cell_type": "code",
      "metadata": {
        "id": "Nkx_AEeOU3cs",
        "colab_type": "code",
        "outputId": "3bfcc656-8a26-4057-a9e3-27b27ac3bc97",
        "colab": {
          "base_uri": "https://localhost:8080/",
          "height": 262
        }
      },
      "source": [
        "#plot distributions of age of passengers who survived or did not survive\n",
        "a = sns.FacetGrid( data, hue = 'Outcome', aspect=4 )\n",
        "a.map(sns.kdeplot, 'Glucose', shade= True )\n",
        "a.set(xlim=(0 , data['Glucose'].max()))\n",
        "a.add_legend()"
      ],
      "execution_count": 0,
      "outputs": [
        {
          "output_type": "execute_result",
          "data": {
            "text/plain": [
              "<seaborn.axisgrid.FacetGrid at 0x7faaf87d8630>"
            ]
          },
          "metadata": {
            "tags": []
          },
          "execution_count": 35
        },
        {
          "output_type": "display_data",
          "data": {
            "image/png": "[encoded data removed]",
            "text/plain": [
              "<Figure size 917.25x216 with 1 Axes>"
            ]
          },
          "metadata": {
            "tags": []
          }
        }
      ]
    },
    {
      "cell_type": "code",
      "metadata": {
        "id": "KeuhD1auVTvx",
        "colab_type": "code",
        "colab": {}
      },
      "source": [
        "plt.subplots(figsize = (10,8))\n",
        "\n",
        "plotting.andrews_curves(df.drop(\"Age\", axis=1), \"Outcome\")\n"
      ],
      "execution_count": 0,
      "outputs": []
    },
    {
      "cell_type": "code",
      "metadata": {
        "id": "v9QRXx1hXRBt",
        "colab_type": "code",
        "outputId": "b5fcd15c-521a-4d25-872c-6eec39292621",
        "colab": {
          "base_uri": "https://localhost:8080/",
          "height": 255
        }
      },
      "source": [
        "data.info()"
      ],
      "execution_count": 0,
      "outputs": [
        {
          "output_type": "stream",
          "text": [
            "<class 'pandas.core.frame.DataFrame'>\n",
            "RangeIndex: 768 entries, 0 to 767\n",
            "Data columns (total 9 columns):\n",
            "Pregnancies                 768 non-null int64\n",
            "Glucose                     768 non-null int64\n",
            "BloodPressure               768 non-null int64\n",
            "SkinThickness               768 non-null int64\n",
            "Insulin                     768 non-null int64\n",
            "BMI                         768 non-null float64\n",
            "DiabetesPedigreeFunction    768 non-null float64\n",
            "Age                         768 non-null int64\n",
            "Outcome                     768 non-null int64\n",
            "dtypes: float64(2), int64(7)\n",
            "memory usage: 54.1 KB\n"
          ],
          "name": "stdout"
        }
      ]
    },
    {
      "cell_type": "markdown",
      "metadata": {
        "id": "K10jQBWYXM3a",
        "colab_type": "text"
      },
      "source": [
        "# **set data of train & test**\n"
      ]
    },
    {
      "cell_type": "code",
      "metadata": {
        "id": "U16ujMPBXNN2",
        "colab_type": "code",
        "colab": {}
      },
      "source": [
        "x = data[['Pregnancies','Glucose','BloodPressure','SkinThickness','Insulin','BMI','DiabetesPedigreeFunction','Age']]\n",
        "y = data['Outcome']"
      ],
      "execution_count": 0,
      "outputs": []
    },
    {
      "cell_type": "code",
      "metadata": {
        "id": "OJ66DxYSfAea",
        "colab_type": "code",
        "colab": {}
      },
      "source": [
        " "
      ],
      "execution_count": 0,
      "outputs": []
    },
    {
      "cell_type": "code",
      "metadata": {
        "id": "nyzywUZGXZE6",
        "colab_type": "code",
        "colab": {}
      },
      "source": [
        "encoder = LabelEncoder()\n",
        "y = encoder.fit_transform(y)"
      ],
      "execution_count": 0,
      "outputs": []
    },
    {
      "cell_type": "markdown",
      "metadata": {
        "id": "_4MwSoJzVs7Z",
        "colab_type": "text"
      },
      "source": [
        "# **train Dataset (only apllyed train data set)**\n"
      ]
    },
    {
      "cell_type": "code",
      "metadata": {
        "id": "u_HjGSQaWIPn",
        "colab_type": "code",
        "outputId": "1029e661-8118-4d54-8f15-74f9c6cc739e",
        "colab": {
          "base_uri": "https://localhost:8080/",
          "height": 52
        }
      },
      "source": [
        "\n",
        "# test_size = 0.3 means 30% , 0.5 meas 50%\n",
        "train, test = train_test_split(data, test_size = 0.3)# in this our main data is split into train and test\n",
        "# the attribute test_size=0.3 splits the data into 70% and 30% ratio. train=70% and test=30%\n",
        "print(train.shape)\n",
        "print(test.shape)\n",
        "\n",
        "\n"
      ],
      "execution_count": 0,
      "outputs": [
        {
          "output_type": "stream",
          "text": [
            "(537, 9)\n",
            "(231, 9)\n"
          ],
          "name": "stdout"
        }
      ]
    },
    {
      "cell_type": "code",
      "metadata": {
        "id": "RWMH9aSZi0V5",
        "colab_type": "code",
        "outputId": "93c30b7a-d212-470d-ee8f-bf14dc522c33",
        "colab": {
          "base_uri": "https://localhost:8080/",
          "height": 185
        }
      },
      "source": [
        "# নতুন  y অবজেক্টগুলোর রেকর্ড সংখ্যা \n",
        "print(y_train.shape)\n",
        "print(y_test.shape)"
      ],
      "execution_count": 0,
      "outputs": [
        {
          "output_type": "error",
          "ename": "NameError",
          "evalue": "ignored",
          "traceback": [
            "\u001b[0;31m---------------------------------------------------------------------------\u001b[0m",
            "\u001b[0;31mNameError\u001b[0m                                 Traceback (most recent call last)",
            "\u001b[0;32m<ipython-input-16-f4478d8331e4>\u001b[0m in \u001b[0;36m<module>\u001b[0;34m()\u001b[0m\n\u001b[0;32m----> 1\u001b[0;31m \u001b[0mprint\u001b[0m\u001b[0;34m(\u001b[0m\u001b[0my_train\u001b[0m\u001b[0;34m.\u001b[0m\u001b[0mshape\u001b[0m\u001b[0;34m)\u001b[0m\u001b[0;34m\u001b[0m\u001b[0;34m\u001b[0m\u001b[0m\n\u001b[0m\u001b[1;32m      2\u001b[0m \u001b[0mprint\u001b[0m\u001b[0;34m(\u001b[0m\u001b[0my_test\u001b[0m\u001b[0;34m.\u001b[0m\u001b[0mshape\u001b[0m\u001b[0;34m)\u001b[0m\u001b[0;34m\u001b[0m\u001b[0;34m\u001b[0m\u001b[0m\n",
            "\u001b[0;31mNameError\u001b[0m: name 'y_train' is not defined"
          ]
        }
      ]
    },
    {
      "cell_type": "code",
      "metadata": {
        "id": "6-9eZuoUZTe0",
        "colab_type": "code",
        "outputId": "d38ed2f4-2db0-4428-ca25-fb634afed477",
        "colab": {
          "base_uri": "https://localhost:8080/",
          "height": 638
        }
      },
      "source": [
        "encoder = LabelEncoder()\n",
        "y = encoder.fit_transform(y)\n",
        "y"
      ],
      "execution_count": 0,
      "outputs": [
        {
          "output_type": "execute_result",
          "data": {
            "text/plain": [
              "array([1, 0, 1, 0, 1, 0, 1, 0, 1, 1, 0, 1, 0, 1, 1, 1, 1, 1, 0, 1, 0, 0,\n",
              "       1, 1, 1, 1, 1, 0, 0, 0, 0, 1, 0, 0, 0, 0, 0, 1, 1, 1, 0, 0, 0, 1,\n",
              "       0, 1, 0, 0, 1, 0, 0, 0, 0, 1, 0, 0, 1, 0, 0, 0, 0, 1, 0, 0, 1, 0,\n",
              "       1, 0, 0, 0, 1, 0, 1, 0, 0, 0, 0, 0, 1, 0, 0, 0, 0, 0, 1, 0, 0, 0,\n",
              "       1, 0, 0, 0, 0, 1, 0, 0, 0, 0, 0, 1, 1, 0, 0, 0, 0, 0, 0, 0, 0, 1,\n",
              "       1, 1, 0, 0, 1, 1, 1, 0, 0, 0, 1, 0, 0, 0, 1, 1, 0, 0, 1, 1, 1, 1,\n",
              "       1, 0, 0, 0, 0, 0, 0, 0, 0, 0, 0, 1, 0, 0, 0, 0, 0, 0, 0, 0, 1, 0,\n",
              "       1, 1, 0, 0, 0, 1, 0, 0, 0, 0, 1, 1, 0, 0, 0, 0, 1, 1, 0, 0, 0, 1,\n",
              "       0, 1, 0, 1, 0, 0, 0, 0, 0, 1, 1, 1, 1, 1, 0, 0, 1, 1, 0, 1, 0, 1,\n",
              "       1, 1, 0, 0, 0, 0, 0, 0, 1, 1, 0, 1, 0, 0, 0, 1, 1, 1, 1, 0, 1, 1,\n",
              "       1, 1, 0, 0, 0, 0, 0, 1, 0, 0, 1, 1, 0, 0, 0, 1, 1, 1, 1, 0, 0, 0,\n",
              "       1, 1, 0, 1, 0, 0, 0, 0, 0, 0, 0, 0, 1, 1, 0, 0, 0, 1, 0, 1, 0, 0,\n",
              "       1, 0, 1, 0, 0, 1, 1, 0, 0, 0, 0, 0, 1, 0, 0, 0, 1, 0, 0, 1, 1, 0,\n",
              "       0, 1, 0, 0, 0, 1, 1, 1, 0, 0, 1, 0, 1, 0, 1, 1, 0, 1, 0, 0, 1, 0,\n",
              "       1, 1, 0, 0, 1, 0, 1, 0, 0, 1, 0, 1, 0, 1, 1, 1, 0, 0, 1, 0, 1, 0,\n",
              "       0, 0, 1, 0, 0, 0, 0, 1, 1, 1, 0, 0, 0, 0, 0, 0, 0, 0, 0, 1, 0, 0,\n",
              "       0, 0, 0, 1, 1, 1, 0, 1, 1, 0, 0, 1, 0, 0, 1, 0, 0, 1, 1, 0, 0, 0,\n",
              "       0, 1, 0, 0, 1, 0, 0, 0, 0, 0, 0, 0, 1, 1, 1, 0, 0, 1, 0, 0, 1, 0,\n",
              "       0, 1, 0, 1, 1, 0, 1, 0, 1, 0, 1, 0, 1, 1, 0, 0, 0, 0, 1, 1, 0, 1,\n",
              "       0, 1, 0, 0, 0, 0, 1, 1, 0, 1, 0, 1, 0, 0, 0, 0, 0, 1, 0, 0, 0, 0,\n",
              "       1, 0, 0, 1, 1, 1, 0, 0, 1, 0, 0, 1, 0, 0, 0, 1, 0, 0, 1, 0, 0, 0,\n",
              "       0, 0, 0, 0, 0, 0, 1, 0, 0, 0, 0, 0, 0, 0, 1, 0, 0, 0, 1, 0, 0, 0,\n",
              "       1, 1, 0, 0, 0, 0, 0, 0, 0, 1, 0, 0, 0, 0, 1, 0, 0, 0, 1, 0, 0, 0,\n",
              "       1, 0, 0, 0, 1, 0, 0, 0, 0, 1, 1, 0, 0, 0, 0, 0, 0, 1, 0, 0, 0, 0,\n",
              "       0, 0, 0, 0, 0, 0, 0, 1, 0, 0, 0, 1, 1, 1, 1, 0, 0, 1, 1, 0, 0, 0,\n",
              "       0, 0, 0, 0, 0, 0, 0, 0, 0, 0, 1, 1, 0, 0, 0, 0, 0, 0, 0, 1, 0, 0,\n",
              "       0, 0, 0, 0, 0, 1, 0, 1, 1, 0, 0, 0, 1, 0, 1, 0, 1, 0, 1, 0, 1, 0,\n",
              "       0, 1, 0, 0, 1, 0, 0, 0, 0, 1, 1, 0, 1, 0, 0, 0, 0, 1, 1, 0, 1, 0,\n",
              "       0, 0, 1, 1, 0, 0, 0, 0, 0, 0, 0, 0, 0, 0, 1, 0, 0, 0, 0, 1, 0, 0,\n",
              "       1, 0, 0, 0, 1, 0, 0, 0, 1, 1, 1, 0, 0, 0, 0, 0, 0, 1, 0, 0, 0, 1,\n",
              "       0, 1, 1, 1, 1, 0, 1, 1, 0, 0, 0, 0, 0, 0, 0, 1, 1, 0, 1, 0, 0, 1,\n",
              "       0, 1, 0, 0, 0, 0, 0, 1, 0, 1, 0, 1, 0, 1, 1, 0, 0, 0, 0, 1, 1, 0,\n",
              "       0, 0, 1, 0, 1, 1, 0, 0, 1, 0, 0, 1, 1, 0, 0, 1, 0, 0, 1, 0, 0, 0,\n",
              "       0, 0, 0, 0, 1, 1, 1, 0, 0, 0, 0, 0, 0, 1, 1, 0, 0, 1, 0, 0, 1, 0,\n",
              "       1, 1, 1, 0, 0, 1, 1, 1, 0, 1, 0, 1, 0, 1, 0, 0, 0, 0, 1, 0])"
            ]
          },
          "metadata": {
            "tags": []
          },
          "execution_count": 17
        }
      ]
    },
    {
      "cell_type": "code",
      "metadata": {
        "id": "JxIQXnD-d_sd",
        "colab_type": "code",
        "colab": {}
      },
      "source": [
        "x_train, x_test, y_train, y_test = train_test_split(x, y, test_size = 0.3, random_state = 101)"
      ],
      "execution_count": 0,
      "outputs": []
    },
    {
      "cell_type": "code",
      "metadata": {
        "id": "Ke0Fi2n4H9cN",
        "colab_type": "code",
        "outputId": "2ce73424-e375-43b8-924b-32a4f494f070",
        "colab": {
          "base_uri": "https://localhost:8080/",
          "height": 52
        }
      },
      "source": [
        "# নতুন  y অবজেক্টগুলোর রেকর্ড সংখ্যা \n",
        "print(y_train.shape)\n",
        "print(y_test.shape)"
      ],
      "execution_count": 0,
      "outputs": [
        {
          "output_type": "stream",
          "text": [
            "(537,)\n",
            "(231,)\n"
          ],
          "name": "stdout"
        }
      ]
    },
    {
      "cell_type": "code",
      "metadata": {
        "id": "hOEKN_YNfIrz",
        "colab_type": "code",
        "outputId": "73303fa8-0da8-4dd0-801b-2da9d1152306",
        "colab": {
          "base_uri": "https://localhost:8080/",
          "height": 1000
        }
      },
      "source": [
        "# ৫টা রেকর্ডের মধ্যে ৩টা এসেছে এখানে \n",
        "x_train"
      ],
      "execution_count": 0,
      "outputs": [
        {
          "output_type": "execute_result",
          "data": {
            "text/html": [
              "<div>\n",
              "<style scoped>\n",
              "    .dataframe tbody tr th:only-of-type {\n",
              "        vertical-align: middle;\n",
              "    }\n",
              "\n",
              "    .dataframe tbody tr th {\n",
              "        vertical-align: top;\n",
              "    }\n",
              "\n",
              "    .dataframe thead th {\n",
              "        text-align: right;\n",
              "    }\n",
              "</style>\n",
              "<table border=\"1\" class=\"dataframe\">\n",
              "  <thead>\n",
              "    <tr style=\"text-align: right;\">\n",
              "      <th></th>\n",
              "      <th>Pregnancies</th>\n",
              "      <th>Glucose</th>\n",
              "      <th>BloodPressure</th>\n",
              "      <th>SkinThickness</th>\n",
              "      <th>Insulin</th>\n",
              "      <th>BMI</th>\n",
              "      <th>DiabetesPedigreeFunction</th>\n",
              "      <th>Age</th>\n",
              "    </tr>\n",
              "  </thead>\n",
              "  <tbody>\n",
              "    <tr>\n",
              "      <th>711</th>\n",
              "      <td>5</td>\n",
              "      <td>126</td>\n",
              "      <td>78</td>\n",
              "      <td>27</td>\n",
              "      <td>22</td>\n",
              "      <td>29.6</td>\n",
              "      <td>0.439</td>\n",
              "      <td>40</td>\n",
              "    </tr>\n",
              "    <tr>\n",
              "      <th>58</th>\n",
              "      <td>0</td>\n",
              "      <td>146</td>\n",
              "      <td>82</td>\n",
              "      <td>0</td>\n",
              "      <td>0</td>\n",
              "      <td>40.5</td>\n",
              "      <td>1.781</td>\n",
              "      <td>44</td>\n",
              "    </tr>\n",
              "    <tr>\n",
              "      <th>216</th>\n",
              "      <td>5</td>\n",
              "      <td>109</td>\n",
              "      <td>62</td>\n",
              "      <td>41</td>\n",
              "      <td>129</td>\n",
              "      <td>35.8</td>\n",
              "      <td>0.514</td>\n",
              "      <td>25</td>\n",
              "    </tr>\n",
              "    <tr>\n",
              "      <th>168</th>\n",
              "      <td>4</td>\n",
              "      <td>110</td>\n",
              "      <td>66</td>\n",
              "      <td>0</td>\n",
              "      <td>0</td>\n",
              "      <td>31.9</td>\n",
              "      <td>0.471</td>\n",
              "      <td>29</td>\n",
              "    </tr>\n",
              "    <tr>\n",
              "      <th>658</th>\n",
              "      <td>11</td>\n",
              "      <td>127</td>\n",
              "      <td>106</td>\n",
              "      <td>0</td>\n",
              "      <td>0</td>\n",
              "      <td>39.0</td>\n",
              "      <td>0.190</td>\n",
              "      <td>51</td>\n",
              "    </tr>\n",
              "    <tr>\n",
              "      <th>257</th>\n",
              "      <td>2</td>\n",
              "      <td>114</td>\n",
              "      <td>68</td>\n",
              "      <td>22</td>\n",
              "      <td>0</td>\n",
              "      <td>28.7</td>\n",
              "      <td>0.092</td>\n",
              "      <td>25</td>\n",
              "    </tr>\n",
              "    <tr>\n",
              "      <th>39</th>\n",
              "      <td>4</td>\n",
              "      <td>111</td>\n",
              "      <td>72</td>\n",
              "      <td>47</td>\n",
              "      <td>207</td>\n",
              "      <td>37.1</td>\n",
              "      <td>1.390</td>\n",
              "      <td>56</td>\n",
              "    </tr>\n",
              "    <tr>\n",
              "      <th>247</th>\n",
              "      <td>0</td>\n",
              "      <td>165</td>\n",
              "      <td>90</td>\n",
              "      <td>33</td>\n",
              "      <td>680</td>\n",
              "      <td>52.3</td>\n",
              "      <td>0.427</td>\n",
              "      <td>23</td>\n",
              "    </tr>\n",
              "    <tr>\n",
              "      <th>637</th>\n",
              "      <td>2</td>\n",
              "      <td>94</td>\n",
              "      <td>76</td>\n",
              "      <td>18</td>\n",
              "      <td>66</td>\n",
              "      <td>31.6</td>\n",
              "      <td>0.649</td>\n",
              "      <td>23</td>\n",
              "    </tr>\n",
              "    <tr>\n",
              "      <th>668</th>\n",
              "      <td>6</td>\n",
              "      <td>98</td>\n",
              "      <td>58</td>\n",
              "      <td>33</td>\n",
              "      <td>190</td>\n",
              "      <td>34.0</td>\n",
              "      <td>0.430</td>\n",
              "      <td>43</td>\n",
              "    </tr>\n",
              "    <tr>\n",
              "      <th>747</th>\n",
              "      <td>1</td>\n",
              "      <td>81</td>\n",
              "      <td>74</td>\n",
              "      <td>41</td>\n",
              "      <td>57</td>\n",
              "      <td>46.3</td>\n",
              "      <td>1.096</td>\n",
              "      <td>32</td>\n",
              "    </tr>\n",
              "    <tr>\n",
              "      <th>617</th>\n",
              "      <td>2</td>\n",
              "      <td>68</td>\n",
              "      <td>62</td>\n",
              "      <td>13</td>\n",
              "      <td>15</td>\n",
              "      <td>20.1</td>\n",
              "      <td>0.257</td>\n",
              "      <td>23</td>\n",
              "    </tr>\n",
              "    <tr>\n",
              "      <th>86</th>\n",
              "      <td>13</td>\n",
              "      <td>106</td>\n",
              "      <td>72</td>\n",
              "      <td>54</td>\n",
              "      <td>0</td>\n",
              "      <td>36.6</td>\n",
              "      <td>0.178</td>\n",
              "      <td>45</td>\n",
              "    </tr>\n",
              "    <tr>\n",
              "      <th>299</th>\n",
              "      <td>8</td>\n",
              "      <td>112</td>\n",
              "      <td>72</td>\n",
              "      <td>0</td>\n",
              "      <td>0</td>\n",
              "      <td>23.6</td>\n",
              "      <td>0.840</td>\n",
              "      <td>58</td>\n",
              "    </tr>\n",
              "    <tr>\n",
              "      <th>185</th>\n",
              "      <td>7</td>\n",
              "      <td>194</td>\n",
              "      <td>68</td>\n",
              "      <td>28</td>\n",
              "      <td>0</td>\n",
              "      <td>35.9</td>\n",
              "      <td>0.745</td>\n",
              "      <td>41</td>\n",
              "    </tr>\n",
              "    <tr>\n",
              "      <th>458</th>\n",
              "      <td>10</td>\n",
              "      <td>148</td>\n",
              "      <td>84</td>\n",
              "      <td>48</td>\n",
              "      <td>237</td>\n",
              "      <td>37.6</td>\n",
              "      <td>1.001</td>\n",
              "      <td>51</td>\n",
              "    </tr>\n",
              "    <tr>\n",
              "      <th>439</th>\n",
              "      <td>6</td>\n",
              "      <td>107</td>\n",
              "      <td>88</td>\n",
              "      <td>0</td>\n",
              "      <td>0</td>\n",
              "      <td>36.8</td>\n",
              "      <td>0.727</td>\n",
              "      <td>31</td>\n",
              "    </tr>\n",
              "    <tr>\n",
              "      <th>553</th>\n",
              "      <td>1</td>\n",
              "      <td>88</td>\n",
              "      <td>62</td>\n",
              "      <td>24</td>\n",
              "      <td>44</td>\n",
              "      <td>29.9</td>\n",
              "      <td>0.422</td>\n",
              "      <td>23</td>\n",
              "    </tr>\n",
              "    <tr>\n",
              "      <th>106</th>\n",
              "      <td>1</td>\n",
              "      <td>96</td>\n",
              "      <td>122</td>\n",
              "      <td>0</td>\n",
              "      <td>0</td>\n",
              "      <td>22.4</td>\n",
              "      <td>0.207</td>\n",
              "      <td>27</td>\n",
              "    </tr>\n",
              "    <tr>\n",
              "      <th>55</th>\n",
              "      <td>1</td>\n",
              "      <td>73</td>\n",
              "      <td>50</td>\n",
              "      <td>10</td>\n",
              "      <td>0</td>\n",
              "      <td>23.0</td>\n",
              "      <td>0.248</td>\n",
              "      <td>21</td>\n",
              "    </tr>\n",
              "    <tr>\n",
              "      <th>291</th>\n",
              "      <td>0</td>\n",
              "      <td>107</td>\n",
              "      <td>62</td>\n",
              "      <td>30</td>\n",
              "      <td>74</td>\n",
              "      <td>36.6</td>\n",
              "      <td>0.757</td>\n",
              "      <td>25</td>\n",
              "    </tr>\n",
              "    <tr>\n",
              "      <th>212</th>\n",
              "      <td>7</td>\n",
              "      <td>179</td>\n",
              "      <td>95</td>\n",
              "      <td>31</td>\n",
              "      <td>0</td>\n",
              "      <td>34.2</td>\n",
              "      <td>0.164</td>\n",
              "      <td>60</td>\n",
              "    </tr>\n",
              "    <tr>\n",
              "      <th>269</th>\n",
              "      <td>2</td>\n",
              "      <td>146</td>\n",
              "      <td>0</td>\n",
              "      <td>0</td>\n",
              "      <td>0</td>\n",
              "      <td>27.5</td>\n",
              "      <td>0.240</td>\n",
              "      <td>28</td>\n",
              "    </tr>\n",
              "    <tr>\n",
              "      <th>218</th>\n",
              "      <td>5</td>\n",
              "      <td>85</td>\n",
              "      <td>74</td>\n",
              "      <td>22</td>\n",
              "      <td>0</td>\n",
              "      <td>29.0</td>\n",
              "      <td>1.224</td>\n",
              "      <td>32</td>\n",
              "    </tr>\n",
              "    <tr>\n",
              "      <th>83</th>\n",
              "      <td>0</td>\n",
              "      <td>101</td>\n",
              "      <td>65</td>\n",
              "      <td>28</td>\n",
              "      <td>0</td>\n",
              "      <td>24.6</td>\n",
              "      <td>0.237</td>\n",
              "      <td>22</td>\n",
              "    </tr>\n",
              "    <tr>\n",
              "      <th>176</th>\n",
              "      <td>6</td>\n",
              "      <td>85</td>\n",
              "      <td>78</td>\n",
              "      <td>0</td>\n",
              "      <td>0</td>\n",
              "      <td>31.2</td>\n",
              "      <td>0.382</td>\n",
              "      <td>42</td>\n",
              "    </tr>\n",
              "    <tr>\n",
              "      <th>53</th>\n",
              "      <td>8</td>\n",
              "      <td>176</td>\n",
              "      <td>90</td>\n",
              "      <td>34</td>\n",
              "      <td>300</td>\n",
              "      <td>33.7</td>\n",
              "      <td>0.467</td>\n",
              "      <td>58</td>\n",
              "    </tr>\n",
              "    <tr>\n",
              "      <th>117</th>\n",
              "      <td>5</td>\n",
              "      <td>78</td>\n",
              "      <td>48</td>\n",
              "      <td>0</td>\n",
              "      <td>0</td>\n",
              "      <td>33.7</td>\n",
              "      <td>0.654</td>\n",
              "      <td>25</td>\n",
              "    </tr>\n",
              "    <tr>\n",
              "      <th>206</th>\n",
              "      <td>8</td>\n",
              "      <td>196</td>\n",
              "      <td>76</td>\n",
              "      <td>29</td>\n",
              "      <td>280</td>\n",
              "      <td>37.5</td>\n",
              "      <td>0.605</td>\n",
              "      <td>57</td>\n",
              "    </tr>\n",
              "    <tr>\n",
              "      <th>124</th>\n",
              "      <td>0</td>\n",
              "      <td>113</td>\n",
              "      <td>76</td>\n",
              "      <td>0</td>\n",
              "      <td>0</td>\n",
              "      <td>33.3</td>\n",
              "      <td>0.278</td>\n",
              "      <td>23</td>\n",
              "    </tr>\n",
              "    <tr>\n",
              "      <th>...</th>\n",
              "      <td>...</td>\n",
              "      <td>...</td>\n",
              "      <td>...</td>\n",
              "      <td>...</td>\n",
              "      <td>...</td>\n",
              "      <td>...</td>\n",
              "      <td>...</td>\n",
              "      <td>...</td>\n",
              "    </tr>\n",
              "    <tr>\n",
              "      <th>735</th>\n",
              "      <td>4</td>\n",
              "      <td>95</td>\n",
              "      <td>60</td>\n",
              "      <td>32</td>\n",
              "      <td>0</td>\n",
              "      <td>35.4</td>\n",
              "      <td>0.284</td>\n",
              "      <td>28</td>\n",
              "    </tr>\n",
              "    <tr>\n",
              "      <th>76</th>\n",
              "      <td>7</td>\n",
              "      <td>62</td>\n",
              "      <td>78</td>\n",
              "      <td>0</td>\n",
              "      <td>0</td>\n",
              "      <td>32.6</td>\n",
              "      <td>0.391</td>\n",
              "      <td>41</td>\n",
              "    </tr>\n",
              "    <tr>\n",
              "      <th>638</th>\n",
              "      <td>7</td>\n",
              "      <td>97</td>\n",
              "      <td>76</td>\n",
              "      <td>32</td>\n",
              "      <td>91</td>\n",
              "      <td>40.9</td>\n",
              "      <td>0.871</td>\n",
              "      <td>32</td>\n",
              "    </tr>\n",
              "    <tr>\n",
              "      <th>275</th>\n",
              "      <td>2</td>\n",
              "      <td>100</td>\n",
              "      <td>70</td>\n",
              "      <td>52</td>\n",
              "      <td>57</td>\n",
              "      <td>40.5</td>\n",
              "      <td>0.677</td>\n",
              "      <td>25</td>\n",
              "    </tr>\n",
              "    <tr>\n",
              "      <th>249</th>\n",
              "      <td>1</td>\n",
              "      <td>111</td>\n",
              "      <td>86</td>\n",
              "      <td>19</td>\n",
              "      <td>0</td>\n",
              "      <td>30.1</td>\n",
              "      <td>0.143</td>\n",
              "      <td>23</td>\n",
              "    </tr>\n",
              "    <tr>\n",
              "      <th>556</th>\n",
              "      <td>1</td>\n",
              "      <td>97</td>\n",
              "      <td>70</td>\n",
              "      <td>40</td>\n",
              "      <td>0</td>\n",
              "      <td>38.1</td>\n",
              "      <td>0.218</td>\n",
              "      <td>30</td>\n",
              "    </tr>\n",
              "    <tr>\n",
              "      <th>418</th>\n",
              "      <td>1</td>\n",
              "      <td>83</td>\n",
              "      <td>68</td>\n",
              "      <td>0</td>\n",
              "      <td>0</td>\n",
              "      <td>18.2</td>\n",
              "      <td>0.624</td>\n",
              "      <td>27</td>\n",
              "    </tr>\n",
              "    <tr>\n",
              "      <th>59</th>\n",
              "      <td>0</td>\n",
              "      <td>105</td>\n",
              "      <td>64</td>\n",
              "      <td>41</td>\n",
              "      <td>142</td>\n",
              "      <td>41.5</td>\n",
              "      <td>0.173</td>\n",
              "      <td>22</td>\n",
              "    </tr>\n",
              "    <tr>\n",
              "      <th>371</th>\n",
              "      <td>0</td>\n",
              "      <td>118</td>\n",
              "      <td>64</td>\n",
              "      <td>23</td>\n",
              "      <td>89</td>\n",
              "      <td>0.0</td>\n",
              "      <td>1.731</td>\n",
              "      <td>21</td>\n",
              "    </tr>\n",
              "    <tr>\n",
              "      <th>136</th>\n",
              "      <td>0</td>\n",
              "      <td>100</td>\n",
              "      <td>70</td>\n",
              "      <td>26</td>\n",
              "      <td>50</td>\n",
              "      <td>30.8</td>\n",
              "      <td>0.597</td>\n",
              "      <td>21</td>\n",
              "    </tr>\n",
              "    <tr>\n",
              "      <th>506</th>\n",
              "      <td>0</td>\n",
              "      <td>180</td>\n",
              "      <td>90</td>\n",
              "      <td>26</td>\n",
              "      <td>90</td>\n",
              "      <td>36.5</td>\n",
              "      <td>0.314</td>\n",
              "      <td>35</td>\n",
              "    </tr>\n",
              "    <tr>\n",
              "      <th>623</th>\n",
              "      <td>0</td>\n",
              "      <td>94</td>\n",
              "      <td>70</td>\n",
              "      <td>27</td>\n",
              "      <td>115</td>\n",
              "      <td>43.5</td>\n",
              "      <td>0.347</td>\n",
              "      <td>21</td>\n",
              "    </tr>\n",
              "    <tr>\n",
              "      <th>49</th>\n",
              "      <td>7</td>\n",
              "      <td>105</td>\n",
              "      <td>0</td>\n",
              "      <td>0</td>\n",
              "      <td>0</td>\n",
              "      <td>0.0</td>\n",
              "      <td>0.305</td>\n",
              "      <td>24</td>\n",
              "    </tr>\n",
              "    <tr>\n",
              "      <th>40</th>\n",
              "      <td>3</td>\n",
              "      <td>180</td>\n",
              "      <td>64</td>\n",
              "      <td>25</td>\n",
              "      <td>70</td>\n",
              "      <td>34.0</td>\n",
              "      <td>0.271</td>\n",
              "      <td>26</td>\n",
              "    </tr>\n",
              "    <tr>\n",
              "      <th>477</th>\n",
              "      <td>7</td>\n",
              "      <td>114</td>\n",
              "      <td>76</td>\n",
              "      <td>17</td>\n",
              "      <td>110</td>\n",
              "      <td>23.8</td>\n",
              "      <td>0.466</td>\n",
              "      <td>31</td>\n",
              "    </tr>\n",
              "    <tr>\n",
              "      <th>5</th>\n",
              "      <td>5</td>\n",
              "      <td>116</td>\n",
              "      <td>74</td>\n",
              "      <td>0</td>\n",
              "      <td>0</td>\n",
              "      <td>25.6</td>\n",
              "      <td>0.201</td>\n",
              "      <td>30</td>\n",
              "    </tr>\n",
              "    <tr>\n",
              "      <th>110</th>\n",
              "      <td>3</td>\n",
              "      <td>171</td>\n",
              "      <td>72</td>\n",
              "      <td>33</td>\n",
              "      <td>135</td>\n",
              "      <td>33.3</td>\n",
              "      <td>0.199</td>\n",
              "      <td>24</td>\n",
              "    </tr>\n",
              "    <tr>\n",
              "      <th>704</th>\n",
              "      <td>4</td>\n",
              "      <td>110</td>\n",
              "      <td>76</td>\n",
              "      <td>20</td>\n",
              "      <td>100</td>\n",
              "      <td>28.4</td>\n",
              "      <td>0.118</td>\n",
              "      <td>27</td>\n",
              "    </tr>\n",
              "    <tr>\n",
              "      <th>732</th>\n",
              "      <td>2</td>\n",
              "      <td>174</td>\n",
              "      <td>88</td>\n",
              "      <td>37</td>\n",
              "      <td>120</td>\n",
              "      <td>44.5</td>\n",
              "      <td>0.646</td>\n",
              "      <td>24</td>\n",
              "    </tr>\n",
              "    <tr>\n",
              "      <th>316</th>\n",
              "      <td>3</td>\n",
              "      <td>99</td>\n",
              "      <td>80</td>\n",
              "      <td>11</td>\n",
              "      <td>64</td>\n",
              "      <td>19.3</td>\n",
              "      <td>0.284</td>\n",
              "      <td>30</td>\n",
              "    </tr>\n",
              "    <tr>\n",
              "      <th>757</th>\n",
              "      <td>0</td>\n",
              "      <td>123</td>\n",
              "      <td>72</td>\n",
              "      <td>0</td>\n",
              "      <td>0</td>\n",
              "      <td>36.3</td>\n",
              "      <td>0.258</td>\n",
              "      <td>52</td>\n",
              "    </tr>\n",
              "    <tr>\n",
              "      <th>765</th>\n",
              "      <td>5</td>\n",
              "      <td>121</td>\n",
              "      <td>72</td>\n",
              "      <td>23</td>\n",
              "      <td>112</td>\n",
              "      <td>26.2</td>\n",
              "      <td>0.245</td>\n",
              "      <td>30</td>\n",
              "    </tr>\n",
              "    <tr>\n",
              "      <th>644</th>\n",
              "      <td>3</td>\n",
              "      <td>103</td>\n",
              "      <td>72</td>\n",
              "      <td>30</td>\n",
              "      <td>152</td>\n",
              "      <td>27.6</td>\n",
              "      <td>0.730</td>\n",
              "      <td>27</td>\n",
              "    </tr>\n",
              "    <tr>\n",
              "      <th>552</th>\n",
              "      <td>6</td>\n",
              "      <td>114</td>\n",
              "      <td>88</td>\n",
              "      <td>0</td>\n",
              "      <td>0</td>\n",
              "      <td>27.8</td>\n",
              "      <td>0.247</td>\n",
              "      <td>66</td>\n",
              "    </tr>\n",
              "    <tr>\n",
              "      <th>393</th>\n",
              "      <td>4</td>\n",
              "      <td>116</td>\n",
              "      <td>72</td>\n",
              "      <td>12</td>\n",
              "      <td>87</td>\n",
              "      <td>22.1</td>\n",
              "      <td>0.463</td>\n",
              "      <td>37</td>\n",
              "    </tr>\n",
              "    <tr>\n",
              "      <th>75</th>\n",
              "      <td>1</td>\n",
              "      <td>0</td>\n",
              "      <td>48</td>\n",
              "      <td>20</td>\n",
              "      <td>0</td>\n",
              "      <td>24.7</td>\n",
              "      <td>0.140</td>\n",
              "      <td>22</td>\n",
              "    </tr>\n",
              "    <tr>\n",
              "      <th>599</th>\n",
              "      <td>1</td>\n",
              "      <td>109</td>\n",
              "      <td>38</td>\n",
              "      <td>18</td>\n",
              "      <td>120</td>\n",
              "      <td>23.1</td>\n",
              "      <td>0.407</td>\n",
              "      <td>26</td>\n",
              "    </tr>\n",
              "    <tr>\n",
              "      <th>575</th>\n",
              "      <td>1</td>\n",
              "      <td>119</td>\n",
              "      <td>44</td>\n",
              "      <td>47</td>\n",
              "      <td>63</td>\n",
              "      <td>35.5</td>\n",
              "      <td>0.280</td>\n",
              "      <td>25</td>\n",
              "    </tr>\n",
              "    <tr>\n",
              "      <th>337</th>\n",
              "      <td>5</td>\n",
              "      <td>115</td>\n",
              "      <td>76</td>\n",
              "      <td>0</td>\n",
              "      <td>0</td>\n",
              "      <td>31.2</td>\n",
              "      <td>0.343</td>\n",
              "      <td>44</td>\n",
              "    </tr>\n",
              "    <tr>\n",
              "      <th>523</th>\n",
              "      <td>9</td>\n",
              "      <td>130</td>\n",
              "      <td>70</td>\n",
              "      <td>0</td>\n",
              "      <td>0</td>\n",
              "      <td>34.2</td>\n",
              "      <td>0.652</td>\n",
              "      <td>45</td>\n",
              "    </tr>\n",
              "  </tbody>\n",
              "</table>\n",
              "<p>537 rows × 8 columns</p>\n",
              "</div>"
            ],
            "text/plain": [
              "     Pregnancies  Glucose  BloodPressure  ...   BMI  DiabetesPedigreeFunction  Age\n",
              "711            5      126             78  ...  29.6                     0.439   40\n",
              "58             0      146             82  ...  40.5                     1.781   44\n",
              "216            5      109             62  ...  35.8                     0.514   25\n",
              "168            4      110             66  ...  31.9                     0.471   29\n",
              "658           11      127            106  ...  39.0                     0.190   51\n",
              "257            2      114             68  ...  28.7                     0.092   25\n",
              "39             4      111             72  ...  37.1                     1.390   56\n",
              "247            0      165             90  ...  52.3                     0.427   23\n",
              "637            2       94             76  ...  31.6                     0.649   23\n",
              "668            6       98             58  ...  34.0                     0.430   43\n",
              "747            1       81             74  ...  46.3                     1.096   32\n",
              "617            2       68             62  ...  20.1                     0.257   23\n",
              "86            13      106             72  ...  36.6                     0.178   45\n",
              "299            8      112             72  ...  23.6                     0.840   58\n",
              "185            7      194             68  ...  35.9                     0.745   41\n",
              "458           10      148             84  ...  37.6                     1.001   51\n",
              "439            6      107             88  ...  36.8                     0.727   31\n",
              "553            1       88             62  ...  29.9                     0.422   23\n",
              "106            1       96            122  ...  22.4                     0.207   27\n",
              "55             1       73             50  ...  23.0                     0.248   21\n",
              "291            0      107             62  ...  36.6                     0.757   25\n",
              "212            7      179             95  ...  34.2                     0.164   60\n",
              "269            2      146              0  ...  27.5                     0.240   28\n",
              "218            5       85             74  ...  29.0                     1.224   32\n",
              "83             0      101             65  ...  24.6                     0.237   22\n",
              "176            6       85             78  ...  31.2                     0.382   42\n",
              "53             8      176             90  ...  33.7                     0.467   58\n",
              "117            5       78             48  ...  33.7                     0.654   25\n",
              "206            8      196             76  ...  37.5                     0.605   57\n",
              "124            0      113             76  ...  33.3                     0.278   23\n",
              "..           ...      ...            ...  ...   ...                       ...  ...\n",
              "735            4       95             60  ...  35.4                     0.284   28\n",
              "76             7       62             78  ...  32.6                     0.391   41\n",
              "638            7       97             76  ...  40.9                     0.871   32\n",
              "275            2      100             70  ...  40.5                     0.677   25\n",
              "249            1      111             86  ...  30.1                     0.143   23\n",
              "556            1       97             70  ...  38.1                     0.218   30\n",
              "418            1       83             68  ...  18.2                     0.624   27\n",
              "59             0      105             64  ...  41.5                     0.173   22\n",
              "371            0      118             64  ...   0.0                     1.731   21\n",
              "136            0      100             70  ...  30.8                     0.597   21\n",
              "506            0      180             90  ...  36.5                     0.314   35\n",
              "623            0       94             70  ...  43.5                     0.347   21\n",
              "49             7      105              0  ...   0.0                     0.305   24\n",
              "40             3      180             64  ...  34.0                     0.271   26\n",
              "477            7      114             76  ...  23.8                     0.466   31\n",
              "5              5      116             74  ...  25.6                     0.201   30\n",
              "110            3      171             72  ...  33.3                     0.199   24\n",
              "704            4      110             76  ...  28.4                     0.118   27\n",
              "732            2      174             88  ...  44.5                     0.646   24\n",
              "316            3       99             80  ...  19.3                     0.284   30\n",
              "757            0      123             72  ...  36.3                     0.258   52\n",
              "765            5      121             72  ...  26.2                     0.245   30\n",
              "644            3      103             72  ...  27.6                     0.730   27\n",
              "552            6      114             88  ...  27.8                     0.247   66\n",
              "393            4      116             72  ...  22.1                     0.463   37\n",
              "75             1        0             48  ...  24.7                     0.140   22\n",
              "599            1      109             38  ...  23.1                     0.407   26\n",
              "575            1      119             44  ...  35.5                     0.280   25\n",
              "337            5      115             76  ...  31.2                     0.343   44\n",
              "523            9      130             70  ...  34.2                     0.652   45\n",
              "\n",
              "[537 rows x 8 columns]"
            ]
          },
          "metadata": {
            "tags": []
          },
          "execution_count": 22
        }
      ]
    },
    {
      "cell_type": "code",
      "metadata": {
        "id": "N-YsanBzfPIB",
        "colab_type": "code",
        "outputId": "404e4d15-41cd-43aa-f3f2-79b846059e6a",
        "colab": {
          "base_uri": "https://localhost:8080/",
          "height": 461
        }
      },
      "source": [
        "# টার্গেট ভেক্টর আসতে হবে ওই ৩টাই \n",
        "y_train"
      ],
      "execution_count": 0,
      "outputs": [
        {
          "output_type": "execute_result",
          "data": {
            "text/plain": [
              "array([0, 0, 1, 0, 0, 0, 1, 0, 0, 0, 0, 0, 0, 0, 1, 1, 0, 0, 0, 0, 1, 0,\n",
              "       1, 1, 0, 0, 1, 0, 1, 1, 0, 1, 0, 0, 0, 0, 0, 0, 0, 0, 0, 1, 0, 0,\n",
              "       1, 1, 0, 0, 1, 0, 0, 1, 0, 1, 1, 0, 0, 0, 1, 0, 1, 1, 0, 0, 0, 0,\n",
              "       0, 1, 0, 1, 0, 0, 1, 0, 0, 1, 0, 0, 0, 1, 0, 0, 0, 1, 0, 0, 0, 0,\n",
              "       1, 0, 0, 1, 1, 0, 0, 0, 0, 0, 1, 0, 0, 0, 0, 0, 1, 0, 0, 0, 0, 1,\n",
              "       1, 0, 1, 1, 0, 0, 0, 0, 1, 0, 1, 0, 0, 1, 0, 0, 0, 0, 0, 0, 0, 1,\n",
              "       0, 0, 0, 0, 0, 0, 1, 1, 1, 1, 1, 1, 1, 0, 1, 0, 0, 0, 0, 0, 0, 0,\n",
              "       0, 0, 1, 0, 0, 0, 1, 1, 1, 1, 1, 1, 0, 1, 0, 1, 0, 1, 1, 0, 0, 1,\n",
              "       0, 0, 0, 0, 0, 1, 0, 1, 0, 1, 0, 1, 0, 0, 0, 0, 1, 0, 0, 1, 0, 1,\n",
              "       1, 0, 0, 1, 1, 0, 0, 0, 1, 0, 1, 1, 0, 0, 0, 0, 1, 0, 0, 0, 0, 1,\n",
              "       1, 0, 0, 1, 0, 1, 1, 0, 0, 0, 1, 0, 1, 1, 0, 0, 0, 0, 0, 1, 1, 0,\n",
              "       1, 0, 0, 0, 0, 1, 1, 1, 1, 0, 0, 1, 1, 0, 0, 0, 1, 1, 0, 1, 0, 0,\n",
              "       0, 0, 0, 1, 0, 0, 0, 0, 1, 0, 0, 0, 1, 1, 1, 1, 0, 0, 0, 0, 0, 0,\n",
              "       0, 0, 0, 1, 0, 0, 0, 0, 1, 1, 0, 0, 0, 0, 0, 0, 0, 1, 0, 0, 0, 0,\n",
              "       1, 0, 0, 1, 0, 0, 0, 1, 1, 0, 1, 0, 0, 1, 0, 1, 1, 0, 0, 0, 1, 0,\n",
              "       0, 1, 0, 1, 1, 1, 0, 0, 0, 0, 0, 1, 0, 1, 1, 0, 1, 1, 0, 0, 1, 1,\n",
              "       0, 0, 0, 1, 0, 0, 0, 0, 0, 1, 0, 1, 0, 0, 0, 1, 1, 0, 1, 0, 0, 0,\n",
              "       0, 0, 0, 0, 1, 0, 1, 0, 0, 0, 1, 1, 1, 1, 0, 1, 0, 0, 1, 0, 1, 0,\n",
              "       0, 1, 0, 1, 1, 1, 1, 0, 0, 1, 1, 0, 0, 0, 0, 0, 1, 1, 1, 0, 0, 1,\n",
              "       1, 1, 0, 0, 1, 0, 0, 0, 0, 0, 0, 0, 1, 0, 1, 0, 1, 0, 1, 0, 0, 0,\n",
              "       0, 1, 0, 0, 0, 1, 0, 0, 1, 1, 0, 0, 1, 0, 0, 0, 0, 1, 1, 0, 0, 1,\n",
              "       0, 0, 0, 1, 1, 1, 0, 0, 1, 1, 1, 0, 0, 0, 1, 0, 0, 0, 0, 0, 0, 0,\n",
              "       1, 0, 0, 0, 1, 0, 0, 0, 0, 1, 0, 0, 1, 1, 1, 0, 1, 0, 0, 0, 0, 0,\n",
              "       1, 0, 0, 1, 0, 0, 0, 0, 0, 0, 0, 1, 0, 0, 0, 0, 0, 1, 0, 1, 0, 1,\n",
              "       0, 0, 0, 0, 0, 0, 0, 1, 1])"
            ]
          },
          "metadata": {
            "tags": []
          },
          "execution_count": 23
        }
      ]
    },
    {
      "cell_type": "code",
      "metadata": {
        "id": "sL6LfiSCgf19",
        "colab_type": "code",
        "outputId": "99f1cd3a-dc5a-4258-970a-340a4878d2f5",
        "colab": {
          "base_uri": "https://localhost:8080/",
          "height": 1000
        }
      },
      "source": [
        "y_test\n"
      ],
      "execution_count": 0,
      "outputs": [
        {
          "output_type": "execute_result",
          "data": {
            "text/plain": [
              "766    1\n",
              "748    1\n",
              "42     0\n",
              "485    1\n",
              "543    0\n",
              "445    1\n",
              "427    1\n",
              "352    0\n",
              "428    0\n",
              "123    0\n",
              "525    0\n",
              "587    0\n",
              "616    0\n",
              "648    1\n",
              "678    1\n",
              "227    1\n",
              "31     1\n",
              "113    0\n",
              "116    1\n",
              "210    0\n",
              "318    0\n",
              "692    0\n",
              "689    1\n",
              "683    1\n",
              "423    0\n",
              "715    1\n",
              "446    0\n",
              "267    0\n",
              "90     0\n",
              "191    0\n",
              "      ..\n",
              "346    0\n",
              "746    1\n",
              "109    1\n",
              "347    0\n",
              "72     1\n",
              "336    0\n",
              "545    1\n",
              "548    0\n",
              "464    0\n",
              "400    1\n",
              "16     1\n",
              "601    0\n",
              "80     0\n",
              "98     0\n",
              "126    0\n",
              "182    0\n",
              "279    0\n",
              "752    0\n",
              "62     0\n",
              "172    0\n",
              "213    1\n",
              "111    1\n",
              "384    0\n",
              "268    0\n",
              "186    1\n",
              "188    1\n",
              "8      1\n",
              "645    0\n",
              "381    0\n",
              "314    1\n",
              "Name: Outcome, Length: 231, dtype: int64"
            ]
          },
          "metadata": {
            "tags": []
          },
          "execution_count": 44
        }
      ]
    },
    {
      "cell_type": "code",
      "metadata": {
        "id": "hcFyGwEKf93K",
        "colab_type": "code",
        "outputId": "97a322c6-e4d6-4e20-fd85-336ee99f237b",
        "colab": {
          "base_uri": "https://localhost:8080/",
          "height": 1000
        }
      },
      "source": [
        "x_test"
      ],
      "execution_count": 0,
      "outputs": [
        {
          "output_type": "execute_result",
          "data": {
            "text/html": [
              "<div>\n",
              "<style scoped>\n",
              "    .dataframe tbody tr th:only-of-type {\n",
              "        vertical-align: middle;\n",
              "    }\n",
              "\n",
              "    .dataframe tbody tr th {\n",
              "        vertical-align: top;\n",
              "    }\n",
              "\n",
              "    .dataframe thead th {\n",
              "        text-align: right;\n",
              "    }\n",
              "</style>\n",
              "<table border=\"1\" class=\"dataframe\">\n",
              "  <thead>\n",
              "    <tr style=\"text-align: right;\">\n",
              "      <th></th>\n",
              "      <th>Pregnancies</th>\n",
              "      <th>Glucose</th>\n",
              "      <th>BloodPressure</th>\n",
              "      <th>SkinThickness</th>\n",
              "      <th>Insulin</th>\n",
              "      <th>BMI</th>\n",
              "      <th>DiabetesPedigreeFunction</th>\n",
              "      <th>Age</th>\n",
              "    </tr>\n",
              "  </thead>\n",
              "  <tbody>\n",
              "    <tr>\n",
              "      <th>766</th>\n",
              "      <td>1</td>\n",
              "      <td>126</td>\n",
              "      <td>60</td>\n",
              "      <td>0</td>\n",
              "      <td>0</td>\n",
              "      <td>30.1</td>\n",
              "      <td>0.349</td>\n",
              "      <td>47</td>\n",
              "    </tr>\n",
              "    <tr>\n",
              "      <th>748</th>\n",
              "      <td>3</td>\n",
              "      <td>187</td>\n",
              "      <td>70</td>\n",
              "      <td>22</td>\n",
              "      <td>200</td>\n",
              "      <td>36.4</td>\n",
              "      <td>0.408</td>\n",
              "      <td>36</td>\n",
              "    </tr>\n",
              "    <tr>\n",
              "      <th>42</th>\n",
              "      <td>7</td>\n",
              "      <td>106</td>\n",
              "      <td>92</td>\n",
              "      <td>18</td>\n",
              "      <td>0</td>\n",
              "      <td>22.7</td>\n",
              "      <td>0.235</td>\n",
              "      <td>48</td>\n",
              "    </tr>\n",
              "    <tr>\n",
              "      <th>485</th>\n",
              "      <td>0</td>\n",
              "      <td>135</td>\n",
              "      <td>68</td>\n",
              "      <td>42</td>\n",
              "      <td>250</td>\n",
              "      <td>42.3</td>\n",
              "      <td>0.365</td>\n",
              "      <td>24</td>\n",
              "    </tr>\n",
              "    <tr>\n",
              "      <th>543</th>\n",
              "      <td>4</td>\n",
              "      <td>84</td>\n",
              "      <td>90</td>\n",
              "      <td>23</td>\n",
              "      <td>56</td>\n",
              "      <td>39.5</td>\n",
              "      <td>0.159</td>\n",
              "      <td>25</td>\n",
              "    </tr>\n",
              "    <tr>\n",
              "      <th>445</th>\n",
              "      <td>0</td>\n",
              "      <td>180</td>\n",
              "      <td>78</td>\n",
              "      <td>63</td>\n",
              "      <td>14</td>\n",
              "      <td>59.4</td>\n",
              "      <td>2.420</td>\n",
              "      <td>25</td>\n",
              "    </tr>\n",
              "    <tr>\n",
              "      <th>427</th>\n",
              "      <td>1</td>\n",
              "      <td>181</td>\n",
              "      <td>64</td>\n",
              "      <td>30</td>\n",
              "      <td>180</td>\n",
              "      <td>34.1</td>\n",
              "      <td>0.328</td>\n",
              "      <td>38</td>\n",
              "    </tr>\n",
              "    <tr>\n",
              "      <th>352</th>\n",
              "      <td>3</td>\n",
              "      <td>61</td>\n",
              "      <td>82</td>\n",
              "      <td>28</td>\n",
              "      <td>0</td>\n",
              "      <td>34.4</td>\n",
              "      <td>0.243</td>\n",
              "      <td>46</td>\n",
              "    </tr>\n",
              "    <tr>\n",
              "      <th>428</th>\n",
              "      <td>0</td>\n",
              "      <td>135</td>\n",
              "      <td>94</td>\n",
              "      <td>46</td>\n",
              "      <td>145</td>\n",
              "      <td>40.6</td>\n",
              "      <td>0.284</td>\n",
              "      <td>26</td>\n",
              "    </tr>\n",
              "    <tr>\n",
              "      <th>123</th>\n",
              "      <td>5</td>\n",
              "      <td>132</td>\n",
              "      <td>80</td>\n",
              "      <td>0</td>\n",
              "      <td>0</td>\n",
              "      <td>26.8</td>\n",
              "      <td>0.186</td>\n",
              "      <td>69</td>\n",
              "    </tr>\n",
              "    <tr>\n",
              "      <th>525</th>\n",
              "      <td>3</td>\n",
              "      <td>87</td>\n",
              "      <td>60</td>\n",
              "      <td>18</td>\n",
              "      <td>0</td>\n",
              "      <td>21.8</td>\n",
              "      <td>0.444</td>\n",
              "      <td>21</td>\n",
              "    </tr>\n",
              "    <tr>\n",
              "      <th>587</th>\n",
              "      <td>6</td>\n",
              "      <td>103</td>\n",
              "      <td>66</td>\n",
              "      <td>0</td>\n",
              "      <td>0</td>\n",
              "      <td>24.3</td>\n",
              "      <td>0.249</td>\n",
              "      <td>29</td>\n",
              "    </tr>\n",
              "    <tr>\n",
              "      <th>616</th>\n",
              "      <td>6</td>\n",
              "      <td>117</td>\n",
              "      <td>96</td>\n",
              "      <td>0</td>\n",
              "      <td>0</td>\n",
              "      <td>28.7</td>\n",
              "      <td>0.157</td>\n",
              "      <td>30</td>\n",
              "    </tr>\n",
              "    <tr>\n",
              "      <th>648</th>\n",
              "      <td>11</td>\n",
              "      <td>136</td>\n",
              "      <td>84</td>\n",
              "      <td>35</td>\n",
              "      <td>130</td>\n",
              "      <td>28.3</td>\n",
              "      <td>0.260</td>\n",
              "      <td>42</td>\n",
              "    </tr>\n",
              "    <tr>\n",
              "      <th>678</th>\n",
              "      <td>3</td>\n",
              "      <td>121</td>\n",
              "      <td>52</td>\n",
              "      <td>0</td>\n",
              "      <td>0</td>\n",
              "      <td>36.0</td>\n",
              "      <td>0.127</td>\n",
              "      <td>25</td>\n",
              "    </tr>\n",
              "    <tr>\n",
              "      <th>227</th>\n",
              "      <td>3</td>\n",
              "      <td>162</td>\n",
              "      <td>52</td>\n",
              "      <td>38</td>\n",
              "      <td>0</td>\n",
              "      <td>37.2</td>\n",
              "      <td>0.652</td>\n",
              "      <td>24</td>\n",
              "    </tr>\n",
              "    <tr>\n",
              "      <th>31</th>\n",
              "      <td>3</td>\n",
              "      <td>158</td>\n",
              "      <td>76</td>\n",
              "      <td>36</td>\n",
              "      <td>245</td>\n",
              "      <td>31.6</td>\n",
              "      <td>0.851</td>\n",
              "      <td>28</td>\n",
              "    </tr>\n",
              "    <tr>\n",
              "      <th>113</th>\n",
              "      <td>4</td>\n",
              "      <td>76</td>\n",
              "      <td>62</td>\n",
              "      <td>0</td>\n",
              "      <td>0</td>\n",
              "      <td>34.0</td>\n",
              "      <td>0.391</td>\n",
              "      <td>25</td>\n",
              "    </tr>\n",
              "    <tr>\n",
              "      <th>116</th>\n",
              "      <td>5</td>\n",
              "      <td>124</td>\n",
              "      <td>74</td>\n",
              "      <td>0</td>\n",
              "      <td>0</td>\n",
              "      <td>34.0</td>\n",
              "      <td>0.220</td>\n",
              "      <td>38</td>\n",
              "    </tr>\n",
              "    <tr>\n",
              "      <th>210</th>\n",
              "      <td>2</td>\n",
              "      <td>81</td>\n",
              "      <td>60</td>\n",
              "      <td>22</td>\n",
              "      <td>0</td>\n",
              "      <td>27.7</td>\n",
              "      <td>0.290</td>\n",
              "      <td>25</td>\n",
              "    </tr>\n",
              "    <tr>\n",
              "      <th>318</th>\n",
              "      <td>3</td>\n",
              "      <td>115</td>\n",
              "      <td>66</td>\n",
              "      <td>39</td>\n",
              "      <td>140</td>\n",
              "      <td>38.1</td>\n",
              "      <td>0.150</td>\n",
              "      <td>28</td>\n",
              "    </tr>\n",
              "    <tr>\n",
              "      <th>692</th>\n",
              "      <td>2</td>\n",
              "      <td>121</td>\n",
              "      <td>70</td>\n",
              "      <td>32</td>\n",
              "      <td>95</td>\n",
              "      <td>39.1</td>\n",
              "      <td>0.886</td>\n",
              "      <td>23</td>\n",
              "    </tr>\n",
              "    <tr>\n",
              "      <th>689</th>\n",
              "      <td>1</td>\n",
              "      <td>144</td>\n",
              "      <td>82</td>\n",
              "      <td>46</td>\n",
              "      <td>180</td>\n",
              "      <td>46.1</td>\n",
              "      <td>0.335</td>\n",
              "      <td>46</td>\n",
              "    </tr>\n",
              "    <tr>\n",
              "      <th>683</th>\n",
              "      <td>4</td>\n",
              "      <td>125</td>\n",
              "      <td>80</td>\n",
              "      <td>0</td>\n",
              "      <td>0</td>\n",
              "      <td>32.3</td>\n",
              "      <td>0.536</td>\n",
              "      <td>27</td>\n",
              "    </tr>\n",
              "    <tr>\n",
              "      <th>423</th>\n",
              "      <td>2</td>\n",
              "      <td>115</td>\n",
              "      <td>64</td>\n",
              "      <td>22</td>\n",
              "      <td>0</td>\n",
              "      <td>30.8</td>\n",
              "      <td>0.421</td>\n",
              "      <td>21</td>\n",
              "    </tr>\n",
              "    <tr>\n",
              "      <th>715</th>\n",
              "      <td>7</td>\n",
              "      <td>187</td>\n",
              "      <td>50</td>\n",
              "      <td>33</td>\n",
              "      <td>392</td>\n",
              "      <td>33.9</td>\n",
              "      <td>0.826</td>\n",
              "      <td>34</td>\n",
              "    </tr>\n",
              "    <tr>\n",
              "      <th>446</th>\n",
              "      <td>1</td>\n",
              "      <td>100</td>\n",
              "      <td>72</td>\n",
              "      <td>12</td>\n",
              "      <td>70</td>\n",
              "      <td>25.3</td>\n",
              "      <td>0.658</td>\n",
              "      <td>28</td>\n",
              "    </tr>\n",
              "    <tr>\n",
              "      <th>267</th>\n",
              "      <td>2</td>\n",
              "      <td>128</td>\n",
              "      <td>64</td>\n",
              "      <td>42</td>\n",
              "      <td>0</td>\n",
              "      <td>40.0</td>\n",
              "      <td>1.101</td>\n",
              "      <td>24</td>\n",
              "    </tr>\n",
              "    <tr>\n",
              "      <th>90</th>\n",
              "      <td>1</td>\n",
              "      <td>80</td>\n",
              "      <td>55</td>\n",
              "      <td>0</td>\n",
              "      <td>0</td>\n",
              "      <td>19.1</td>\n",
              "      <td>0.258</td>\n",
              "      <td>21</td>\n",
              "    </tr>\n",
              "    <tr>\n",
              "      <th>191</th>\n",
              "      <td>9</td>\n",
              "      <td>123</td>\n",
              "      <td>70</td>\n",
              "      <td>44</td>\n",
              "      <td>94</td>\n",
              "      <td>33.1</td>\n",
              "      <td>0.374</td>\n",
              "      <td>40</td>\n",
              "    </tr>\n",
              "    <tr>\n",
              "      <th>...</th>\n",
              "      <td>...</td>\n",
              "      <td>...</td>\n",
              "      <td>...</td>\n",
              "      <td>...</td>\n",
              "      <td>...</td>\n",
              "      <td>...</td>\n",
              "      <td>...</td>\n",
              "      <td>...</td>\n",
              "    </tr>\n",
              "    <tr>\n",
              "      <th>346</th>\n",
              "      <td>1</td>\n",
              "      <td>139</td>\n",
              "      <td>46</td>\n",
              "      <td>19</td>\n",
              "      <td>83</td>\n",
              "      <td>28.7</td>\n",
              "      <td>0.654</td>\n",
              "      <td>22</td>\n",
              "    </tr>\n",
              "    <tr>\n",
              "      <th>746</th>\n",
              "      <td>1</td>\n",
              "      <td>147</td>\n",
              "      <td>94</td>\n",
              "      <td>41</td>\n",
              "      <td>0</td>\n",
              "      <td>49.3</td>\n",
              "      <td>0.358</td>\n",
              "      <td>27</td>\n",
              "    </tr>\n",
              "    <tr>\n",
              "      <th>109</th>\n",
              "      <td>0</td>\n",
              "      <td>95</td>\n",
              "      <td>85</td>\n",
              "      <td>25</td>\n",
              "      <td>36</td>\n",
              "      <td>37.4</td>\n",
              "      <td>0.247</td>\n",
              "      <td>24</td>\n",
              "    </tr>\n",
              "    <tr>\n",
              "      <th>347</th>\n",
              "      <td>3</td>\n",
              "      <td>116</td>\n",
              "      <td>0</td>\n",
              "      <td>0</td>\n",
              "      <td>0</td>\n",
              "      <td>23.5</td>\n",
              "      <td>0.187</td>\n",
              "      <td>23</td>\n",
              "    </tr>\n",
              "    <tr>\n",
              "      <th>72</th>\n",
              "      <td>13</td>\n",
              "      <td>126</td>\n",
              "      <td>90</td>\n",
              "      <td>0</td>\n",
              "      <td>0</td>\n",
              "      <td>43.4</td>\n",
              "      <td>0.583</td>\n",
              "      <td>42</td>\n",
              "    </tr>\n",
              "    <tr>\n",
              "      <th>336</th>\n",
              "      <td>0</td>\n",
              "      <td>117</td>\n",
              "      <td>0</td>\n",
              "      <td>0</td>\n",
              "      <td>0</td>\n",
              "      <td>33.8</td>\n",
              "      <td>0.932</td>\n",
              "      <td>44</td>\n",
              "    </tr>\n",
              "    <tr>\n",
              "      <th>545</th>\n",
              "      <td>8</td>\n",
              "      <td>186</td>\n",
              "      <td>90</td>\n",
              "      <td>35</td>\n",
              "      <td>225</td>\n",
              "      <td>34.5</td>\n",
              "      <td>0.423</td>\n",
              "      <td>37</td>\n",
              "    </tr>\n",
              "    <tr>\n",
              "      <th>548</th>\n",
              "      <td>1</td>\n",
              "      <td>164</td>\n",
              "      <td>82</td>\n",
              "      <td>43</td>\n",
              "      <td>67</td>\n",
              "      <td>32.8</td>\n",
              "      <td>0.341</td>\n",
              "      <td>50</td>\n",
              "    </tr>\n",
              "    <tr>\n",
              "      <th>464</th>\n",
              "      <td>10</td>\n",
              "      <td>115</td>\n",
              "      <td>98</td>\n",
              "      <td>0</td>\n",
              "      <td>0</td>\n",
              "      <td>24.0</td>\n",
              "      <td>1.022</td>\n",
              "      <td>34</td>\n",
              "    </tr>\n",
              "    <tr>\n",
              "      <th>400</th>\n",
              "      <td>4</td>\n",
              "      <td>95</td>\n",
              "      <td>64</td>\n",
              "      <td>0</td>\n",
              "      <td>0</td>\n",
              "      <td>32.0</td>\n",
              "      <td>0.161</td>\n",
              "      <td>31</td>\n",
              "    </tr>\n",
              "    <tr>\n",
              "      <th>16</th>\n",
              "      <td>0</td>\n",
              "      <td>118</td>\n",
              "      <td>84</td>\n",
              "      <td>47</td>\n",
              "      <td>230</td>\n",
              "      <td>45.8</td>\n",
              "      <td>0.551</td>\n",
              "      <td>31</td>\n",
              "    </tr>\n",
              "    <tr>\n",
              "      <th>601</th>\n",
              "      <td>6</td>\n",
              "      <td>96</td>\n",
              "      <td>0</td>\n",
              "      <td>0</td>\n",
              "      <td>0</td>\n",
              "      <td>23.7</td>\n",
              "      <td>0.190</td>\n",
              "      <td>28</td>\n",
              "    </tr>\n",
              "    <tr>\n",
              "      <th>80</th>\n",
              "      <td>3</td>\n",
              "      <td>113</td>\n",
              "      <td>44</td>\n",
              "      <td>13</td>\n",
              "      <td>0</td>\n",
              "      <td>22.4</td>\n",
              "      <td>0.140</td>\n",
              "      <td>22</td>\n",
              "    </tr>\n",
              "    <tr>\n",
              "      <th>98</th>\n",
              "      <td>6</td>\n",
              "      <td>93</td>\n",
              "      <td>50</td>\n",
              "      <td>30</td>\n",
              "      <td>64</td>\n",
              "      <td>28.7</td>\n",
              "      <td>0.356</td>\n",
              "      <td>23</td>\n",
              "    </tr>\n",
              "    <tr>\n",
              "      <th>126</th>\n",
              "      <td>3</td>\n",
              "      <td>120</td>\n",
              "      <td>70</td>\n",
              "      <td>30</td>\n",
              "      <td>135</td>\n",
              "      <td>42.9</td>\n",
              "      <td>0.452</td>\n",
              "      <td>30</td>\n",
              "    </tr>\n",
              "    <tr>\n",
              "      <th>182</th>\n",
              "      <td>1</td>\n",
              "      <td>0</td>\n",
              "      <td>74</td>\n",
              "      <td>20</td>\n",
              "      <td>23</td>\n",
              "      <td>27.7</td>\n",
              "      <td>0.299</td>\n",
              "      <td>21</td>\n",
              "    </tr>\n",
              "    <tr>\n",
              "      <th>279</th>\n",
              "      <td>2</td>\n",
              "      <td>108</td>\n",
              "      <td>62</td>\n",
              "      <td>10</td>\n",
              "      <td>278</td>\n",
              "      <td>25.3</td>\n",
              "      <td>0.881</td>\n",
              "      <td>22</td>\n",
              "    </tr>\n",
              "    <tr>\n",
              "      <th>752</th>\n",
              "      <td>3</td>\n",
              "      <td>108</td>\n",
              "      <td>62</td>\n",
              "      <td>24</td>\n",
              "      <td>0</td>\n",
              "      <td>26.0</td>\n",
              "      <td>0.223</td>\n",
              "      <td>25</td>\n",
              "    </tr>\n",
              "    <tr>\n",
              "      <th>62</th>\n",
              "      <td>5</td>\n",
              "      <td>44</td>\n",
              "      <td>62</td>\n",
              "      <td>0</td>\n",
              "      <td>0</td>\n",
              "      <td>25.0</td>\n",
              "      <td>0.587</td>\n",
              "      <td>36</td>\n",
              "    </tr>\n",
              "    <tr>\n",
              "      <th>172</th>\n",
              "      <td>2</td>\n",
              "      <td>87</td>\n",
              "      <td>0</td>\n",
              "      <td>23</td>\n",
              "      <td>0</td>\n",
              "      <td>28.9</td>\n",
              "      <td>0.773</td>\n",
              "      <td>25</td>\n",
              "    </tr>\n",
              "    <tr>\n",
              "      <th>213</th>\n",
              "      <td>0</td>\n",
              "      <td>140</td>\n",
              "      <td>65</td>\n",
              "      <td>26</td>\n",
              "      <td>130</td>\n",
              "      <td>42.6</td>\n",
              "      <td>0.431</td>\n",
              "      <td>24</td>\n",
              "    </tr>\n",
              "    <tr>\n",
              "      <th>111</th>\n",
              "      <td>8</td>\n",
              "      <td>155</td>\n",
              "      <td>62</td>\n",
              "      <td>26</td>\n",
              "      <td>495</td>\n",
              "      <td>34.0</td>\n",
              "      <td>0.543</td>\n",
              "      <td>46</td>\n",
              "    </tr>\n",
              "    <tr>\n",
              "      <th>384</th>\n",
              "      <td>1</td>\n",
              "      <td>125</td>\n",
              "      <td>70</td>\n",
              "      <td>24</td>\n",
              "      <td>110</td>\n",
              "      <td>24.3</td>\n",
              "      <td>0.221</td>\n",
              "      <td>25</td>\n",
              "    </tr>\n",
              "    <tr>\n",
              "      <th>268</th>\n",
              "      <td>0</td>\n",
              "      <td>102</td>\n",
              "      <td>52</td>\n",
              "      <td>0</td>\n",
              "      <td>0</td>\n",
              "      <td>25.1</td>\n",
              "      <td>0.078</td>\n",
              "      <td>21</td>\n",
              "    </tr>\n",
              "    <tr>\n",
              "      <th>186</th>\n",
              "      <td>8</td>\n",
              "      <td>181</td>\n",
              "      <td>68</td>\n",
              "      <td>36</td>\n",
              "      <td>495</td>\n",
              "      <td>30.1</td>\n",
              "      <td>0.615</td>\n",
              "      <td>60</td>\n",
              "    </tr>\n",
              "    <tr>\n",
              "      <th>188</th>\n",
              "      <td>8</td>\n",
              "      <td>109</td>\n",
              "      <td>76</td>\n",
              "      <td>39</td>\n",
              "      <td>114</td>\n",
              "      <td>27.9</td>\n",
              "      <td>0.640</td>\n",
              "      <td>31</td>\n",
              "    </tr>\n",
              "    <tr>\n",
              "      <th>8</th>\n",
              "      <td>2</td>\n",
              "      <td>197</td>\n",
              "      <td>70</td>\n",
              "      <td>45</td>\n",
              "      <td>543</td>\n",
              "      <td>30.5</td>\n",
              "      <td>0.158</td>\n",
              "      <td>53</td>\n",
              "    </tr>\n",
              "    <tr>\n",
              "      <th>645</th>\n",
              "      <td>2</td>\n",
              "      <td>157</td>\n",
              "      <td>74</td>\n",
              "      <td>35</td>\n",
              "      <td>440</td>\n",
              "      <td>39.4</td>\n",
              "      <td>0.134</td>\n",
              "      <td>30</td>\n",
              "    </tr>\n",
              "    <tr>\n",
              "      <th>381</th>\n",
              "      <td>0</td>\n",
              "      <td>105</td>\n",
              "      <td>68</td>\n",
              "      <td>22</td>\n",
              "      <td>0</td>\n",
              "      <td>20.0</td>\n",
              "      <td>0.236</td>\n",
              "      <td>22</td>\n",
              "    </tr>\n",
              "    <tr>\n",
              "      <th>314</th>\n",
              "      <td>7</td>\n",
              "      <td>109</td>\n",
              "      <td>80</td>\n",
              "      <td>31</td>\n",
              "      <td>0</td>\n",
              "      <td>35.9</td>\n",
              "      <td>1.127</td>\n",
              "      <td>43</td>\n",
              "    </tr>\n",
              "  </tbody>\n",
              "</table>\n",
              "<p>231 rows × 8 columns</p>\n",
              "</div>"
            ],
            "text/plain": [
              "     Pregnancies  Glucose  BloodPressure  ...   BMI  DiabetesPedigreeFunction  Age\n",
              "766            1      126             60  ...  30.1                     0.349   47\n",
              "748            3      187             70  ...  36.4                     0.408   36\n",
              "42             7      106             92  ...  22.7                     0.235   48\n",
              "485            0      135             68  ...  42.3                     0.365   24\n",
              "543            4       84             90  ...  39.5                     0.159   25\n",
              "445            0      180             78  ...  59.4                     2.420   25\n",
              "427            1      181             64  ...  34.1                     0.328   38\n",
              "352            3       61             82  ...  34.4                     0.243   46\n",
              "428            0      135             94  ...  40.6                     0.284   26\n",
              "123            5      132             80  ...  26.8                     0.186   69\n",
              "525            3       87             60  ...  21.8                     0.444   21\n",
              "587            6      103             66  ...  24.3                     0.249   29\n",
              "616            6      117             96  ...  28.7                     0.157   30\n",
              "648           11      136             84  ...  28.3                     0.260   42\n",
              "678            3      121             52  ...  36.0                     0.127   25\n",
              "227            3      162             52  ...  37.2                     0.652   24\n",
              "31             3      158             76  ...  31.6                     0.851   28\n",
              "113            4       76             62  ...  34.0                     0.391   25\n",
              "116            5      124             74  ...  34.0                     0.220   38\n",
              "210            2       81             60  ...  27.7                     0.290   25\n",
              "318            3      115             66  ...  38.1                     0.150   28\n",
              "692            2      121             70  ...  39.1                     0.886   23\n",
              "689            1      144             82  ...  46.1                     0.335   46\n",
              "683            4      125             80  ...  32.3                     0.536   27\n",
              "423            2      115             64  ...  30.8                     0.421   21\n",
              "715            7      187             50  ...  33.9                     0.826   34\n",
              "446            1      100             72  ...  25.3                     0.658   28\n",
              "267            2      128             64  ...  40.0                     1.101   24\n",
              "90             1       80             55  ...  19.1                     0.258   21\n",
              "191            9      123             70  ...  33.1                     0.374   40\n",
              "..           ...      ...            ...  ...   ...                       ...  ...\n",
              "346            1      139             46  ...  28.7                     0.654   22\n",
              "746            1      147             94  ...  49.3                     0.358   27\n",
              "109            0       95             85  ...  37.4                     0.247   24\n",
              "347            3      116              0  ...  23.5                     0.187   23\n",
              "72            13      126             90  ...  43.4                     0.583   42\n",
              "336            0      117              0  ...  33.8                     0.932   44\n",
              "545            8      186             90  ...  34.5                     0.423   37\n",
              "548            1      164             82  ...  32.8                     0.341   50\n",
              "464           10      115             98  ...  24.0                     1.022   34\n",
              "400            4       95             64  ...  32.0                     0.161   31\n",
              "16             0      118             84  ...  45.8                     0.551   31\n",
              "601            6       96              0  ...  23.7                     0.190   28\n",
              "80             3      113             44  ...  22.4                     0.140   22\n",
              "98             6       93             50  ...  28.7                     0.356   23\n",
              "126            3      120             70  ...  42.9                     0.452   30\n",
              "182            1        0             74  ...  27.7                     0.299   21\n",
              "279            2      108             62  ...  25.3                     0.881   22\n",
              "752            3      108             62  ...  26.0                     0.223   25\n",
              "62             5       44             62  ...  25.0                     0.587   36\n",
              "172            2       87              0  ...  28.9                     0.773   25\n",
              "213            0      140             65  ...  42.6                     0.431   24\n",
              "111            8      155             62  ...  34.0                     0.543   46\n",
              "384            1      125             70  ...  24.3                     0.221   25\n",
              "268            0      102             52  ...  25.1                     0.078   21\n",
              "186            8      181             68  ...  30.1                     0.615   60\n",
              "188            8      109             76  ...  27.9                     0.640   31\n",
              "8              2      197             70  ...  30.5                     0.158   53\n",
              "645            2      157             74  ...  39.4                     0.134   30\n",
              "381            0      105             68  ...  20.0                     0.236   22\n",
              "314            7      109             80  ...  35.9                     1.127   43\n",
              "\n",
              "[231 rows x 8 columns]"
            ]
          },
          "metadata": {
            "tags": []
          },
          "execution_count": 41
        }
      ]
    },
    {
      "cell_type": "code",
      "metadata": {
        "id": "AQtK0XSRgKHd",
        "colab_type": "code",
        "outputId": "4d89f7be-419c-4ec8-f3a0-87090a31091b",
        "colab": {
          "base_uri": "https://localhost:8080/",
          "height": 1000
        }
      },
      "source": [
        "\n",
        "train_test_split(y, shuffle=False)"
      ],
      "execution_count": 0,
      "outputs": [
        {
          "output_type": "execute_result",
          "data": {
            "text/plain": [
              "[0      1\n",
              " 1      0\n",
              " 2      1\n",
              " 3      0\n",
              " 4      1\n",
              " 5      0\n",
              " 6      1\n",
              " 7      0\n",
              " 8      1\n",
              " 9      1\n",
              " 10     0\n",
              " 11     1\n",
              " 12     0\n",
              " 13     1\n",
              " 14     1\n",
              " 15     1\n",
              " 16     1\n",
              " 17     1\n",
              " 18     0\n",
              " 19     1\n",
              " 20     0\n",
              " 21     0\n",
              " 22     1\n",
              " 23     1\n",
              " 24     1\n",
              " 25     1\n",
              " 26     1\n",
              " 27     0\n",
              " 28     0\n",
              " 29     0\n",
              "       ..\n",
              " 546    1\n",
              " 547    0\n",
              " 548    0\n",
              " 549    0\n",
              " 550    0\n",
              " 551    0\n",
              " 552    0\n",
              " 553    0\n",
              " 554    0\n",
              " 555    0\n",
              " 556    0\n",
              " 557    0\n",
              " 558    0\n",
              " 559    0\n",
              " 560    1\n",
              " 561    1\n",
              " 562    0\n",
              " 563    0\n",
              " 564    0\n",
              " 565    0\n",
              " 566    0\n",
              " 567    0\n",
              " 568    0\n",
              " 569    1\n",
              " 570    0\n",
              " 571    0\n",
              " 572    0\n",
              " 573    0\n",
              " 574    0\n",
              " 575    0\n",
              " Name: Outcome, Length: 576, dtype: int64, 576    0\n",
              " 577    1\n",
              " 578    0\n",
              " 579    1\n",
              " 580    1\n",
              " 581    0\n",
              " 582    0\n",
              " 583    0\n",
              " 584    1\n",
              " 585    0\n",
              " 586    1\n",
              " 587    0\n",
              " 588    1\n",
              " 589    0\n",
              " 590    1\n",
              " 591    0\n",
              " 592    1\n",
              " 593    0\n",
              " 594    0\n",
              " 595    1\n",
              " 596    0\n",
              " 597    0\n",
              " 598    1\n",
              " 599    0\n",
              " 600    0\n",
              " 601    0\n",
              " 602    0\n",
              " 603    1\n",
              " 604    1\n",
              " 605    0\n",
              "       ..\n",
              " 738    0\n",
              " 739    1\n",
              " 740    1\n",
              " 741    0\n",
              " 742    0\n",
              " 743    1\n",
              " 744    0\n",
              " 745    0\n",
              " 746    1\n",
              " 747    0\n",
              " 748    1\n",
              " 749    1\n",
              " 750    1\n",
              " 751    0\n",
              " 752    0\n",
              " 753    1\n",
              " 754    1\n",
              " 755    1\n",
              " 756    0\n",
              " 757    1\n",
              " 758    0\n",
              " 759    1\n",
              " 760    0\n",
              " 761    1\n",
              " 762    0\n",
              " 763    0\n",
              " 764    0\n",
              " 765    0\n",
              " 766    1\n",
              " 767    0\n",
              " Name: Outcome, Length: 192, dtype: int64]"
            ]
          },
          "metadata": {
            "tags": []
          },
          "execution_count": 43
        }
      ]
    },
    {
      "cell_type": "markdown",
      "metadata": {
        "id": "i4r_FXsmZcgg",
        "colab_type": "text"
      },
      "source": [
        "**source**: https://www.kaggle.com/ranjeetjain3/visualization-machine-learning-deep-learning#-Description\n",
        "# **List of algorithms**\n",
        "Since it is a classification problem we will be using\n",
        "\n",
        "Logistic regression\n",
        "\n",
        "Decision tree\n",
        "\n",
        "KNN\n",
        "\n",
        "SVM\n",
        "\n",
        "Naive Bayes Classification\n",
        "\n",
        "Random forest\n",
        "\n",
        "XGBoost\n",
        "\n",
        "LightGBM"
      ]
    },
    {
      "cell_type": "markdown",
      "metadata": {
        "id": "l4iQP_WxdT7B",
        "colab_type": "text"
      },
      "source": [
        "**Logistic regression**"
      ]
    },
    {
      "cell_type": "code",
      "metadata": {
        "id": "b1aGjPQFdUIm",
        "colab_type": "code",
        "outputId": "45021794-6d44-4c54-8038-d4f1cd981a54",
        "colab": {
          "base_uri": "https://localhost:8080/",
          "height": 34
        }
      },
      "source": [
        "from sklearn.linear_model import LogisticRegression\n",
        "lr_model = LogisticRegression()\n",
        "lr_model.fit(x_train,y_train)\n",
        "lr_predict = lr_model.predict(x_test)\n",
        "print('Logistic Regression - ',accuracy_score(lr_predict,y_test))"
      ],
      "execution_count": 0,
      "outputs": [
        {
          "output_type": "stream",
          "text": [
            "Logistic Regression -  0.7835497835497836\n"
          ],
          "name": "stdout"
        }
      ]
    },
    {
      "cell_type": "markdown",
      "metadata": {
        "id": "TNFWNmFldUWB",
        "colab_type": "text"
      },
      "source": [
        "**“Support Vector Machine”** (SVM) is a supervised machine learning algorithm which can be used for both classification or regression challenges. However, it is mostly used in classification problems. In this algorithm, we plot each data item as a point in n-dimensional space (where n is number of features you have) with the value of each feature being the value of a particular coordinate. Then, we perform classification by finding the hyper-plane that differentiate the two classes very well.\n",
        "\n",
        "Support Vectors are simply the co-ordinates of individual observation. Support Vector Machine is a frontier which best segregates the two classes (hyper-plane/ line). (https://www.analyticsvidhya.com/blog/2017/09/understaing-support-vector-machine-example-code/)"
      ]
    },
    {
      "cell_type": "code",
      "metadata": {
        "id": "ZFglGoEKdUhk",
        "colab_type": "code",
        "outputId": "dc485be7-ac6d-454f-bdfb-2b942c628e85",
        "colab": {
          "base_uri": "https://localhost:8080/",
          "height": 34
        }
      },
      "source": [
        "svm_model = SVC(kernel='linear')\n",
        "svm_model.fit(x_train,y_train)\n",
        "svc_predict = svm_model.predict(x_test)\n",
        "print('SVM - ',accuracy_score(svc_predict,y_test))"
      ],
      "execution_count": 0,
      "outputs": [
        {
          "output_type": "stream",
          "text": [
            "SVM -  0.7662337662337663\n"
          ],
          "name": "stdout"
        }
      ]
    },
    {
      "cell_type": "markdown",
      "metadata": {
        "id": "OtTMqCnDdUuq",
        "colab_type": "text"
      },
      "source": [
        "**Naive Bayes Classification**\n",
        "<img src = \"https://helloacm.com/wp-content/uploads/2016/03/Bayes_rule.png\">\n",
        "\n",
        "Naive Bayes is a simple, yet effective and commonly-used, machine learning classifier. It is a probabilistic classifier that makes classifications using the Maximum A Posteriori decision rule in a Bayesian setting. It can also be represented using a very simple Bayesian network. Naive Bayes classifiers have been especially popular for text classification, and are a traditional solution for problems such as spam detection. (https://towardsdatascience.com/introduction-to-naive-bayes-classification-4cffabb1ae54)\n",
        "\n"
      ]
    },
    {
      "cell_type": "code",
      "metadata": {
        "id": "fB5lcMrNdU6p",
        "colab_type": "code",
        "outputId": "8a5af42a-093d-4c6e-9ac3-969c9fc83326",
        "colab": {
          "base_uri": "https://localhost:8080/",
          "height": 34
        }
      },
      "source": [
        "nb_model = GaussianNB()\n",
        "nb_model.fit(x_train,y_train)\n",
        "nb_predict = nb_model.predict(x_test)\n",
        "print('Naive bayes - ',accuracy_score(nb_predict,y_test))"
      ],
      "execution_count": 0,
      "outputs": [
        {
          "output_type": "stream",
          "text": [
            "Naive bayes -  0.7619047619047619\n"
          ],
          "name": "stdout"
        }
      ]
    },
    {
      "cell_type": "markdown",
      "metadata": {
        "id": "fQVqoFsZdVGg",
        "colab_type": "text"
      },
      "source": [
        "**Decision tree**"
      ]
    },
    {
      "cell_type": "code",
      "metadata": {
        "id": "2d6BB1gpdVS_",
        "colab_type": "code",
        "outputId": "739f9e89-943f-4389-8896-93ea418bafee",
        "colab": {
          "base_uri": "https://localhost:8080/",
          "height": 34
        }
      },
      "source": [
        "dt_model = DecisionTreeClassifier(max_leaf_nodes=3)\n",
        "dt_model.fit(x_train,y_train)\n",
        "dt_predict = dt_model.predict(x_test)\n",
        "print('Decision Tree - ',accuracy_score(dt_predict,y_test))"
      ],
      "execution_count": 0,
      "outputs": [
        {
          "output_type": "stream",
          "text": [
            "Decision Tree -  0.7445887445887446\n"
          ],
          "name": "stdout"
        }
      ]
    },
    {
      "cell_type": "markdown",
      "metadata": {
        "id": "32yDiSIsdVio",
        "colab_type": "text"
      },
      "source": [
        "**Random forest**"
      ]
    },
    {
      "cell_type": "code",
      "metadata": {
        "id": "7yJ9XYDqdVs4",
        "colab_type": "code",
        "outputId": "54b6665c-0f60-4aba-b46d-d749cc823039",
        "colab": {
          "base_uri": "https://localhost:8080/",
          "height": 34
        }
      },
      "source": [
        "rfc_model = RandomForestClassifier(max_depth=3)\n",
        "rfc_model.fit(x_train,y_train)\n",
        "rfc_predict = rfc_model.predict(x_test)\n",
        "print('Random Forest - ',accuracy_score(rfc_predict,y_test))"
      ],
      "execution_count": 0,
      "outputs": [
        {
          "output_type": "stream",
          "text": [
            "Random Forest -  0.7662337662337663\n"
          ],
          "name": "stdout"
        }
      ]
    },
    {
      "cell_type": "markdown",
      "metadata": {
        "id": "nHnGsU8Mfu6G",
        "colab_type": "text"
      },
      "source": [
        "**Extra Tree Classifier**"
      ]
    },
    {
      "cell_type": "code",
      "metadata": {
        "id": "vEiUEUlKfvE2",
        "colab_type": "code",
        "colab": {}
      },
      "source": [
        "etc_model = ExtraTreesClassifier()\n",
        "etc_model.fit(x_train,y_train)\n",
        "etc_predict = etc_model.predict(x_test)\n",
        "print('Extra Tree Classifier - ',accuracy_score(etc_predict,y_test))"
      ],
      "execution_count": 0,
      "outputs": []
    },
    {
      "cell_type": "markdown",
      "metadata": {
        "id": "yra_ZnfnfvRT",
        "colab_type": "text"
      },
      "source": [
        "**KNN**\n",
        "\n",
        "\n",
        "K nearest neighbors is a simple algorithm that stores all available cases and classifies new cases based on a similarity measure (e.g., distance functions). KNN has been used in statistical estimation and pattern recognition already in the beginning of 1970's as a non-parametric technique. (https://www.analyticsvidhya.com/blog/2018/03/introduction-k-neighbours-algorithm-clustering/)\n",
        "\n"
      ]
    },
    {
      "cell_type": "code",
      "metadata": {
        "id": "wTmij3sZfvbs",
        "colab_type": "code",
        "outputId": "f208bcbf-3f67-4ecf-8bb9-6f6a979ad54d",
        "colab": {
          "base_uri": "https://localhost:8080/",
          "height": 34
        }
      },
      "source": [
        "knn_model = KNeighborsClassifier(n_neighbors=3)\n",
        "knn_model.fit(x_train,y_train)\n",
        "knn_predict = knn_model.predict(x_test)\n",
        "print('knn - ',accuracy_score(knn_predict,y_test))"
      ],
      "execution_count": 0,
      "outputs": [
        {
          "output_type": "stream",
          "text": [
            "knn -  0.70995670995671\n"
          ],
          "name": "stdout"
        }
      ]
    },
    {
      "cell_type": "markdown",
      "metadata": {
        "id": "oIkO6pjqgI51",
        "colab_type": "text"
      },
      "source": [
        "**XGBoost**\n",
        "\n",
        "\n",
        "The beauty of this powerful algorithm lies in its scalability, which drives fast learning through parallel and distributed computing and offers efficient memory usage.\n",
        "\n",
        "It’s no wonder then that CERN recognized it as the best approach to classify signals from the Large Hadron Collider. This particular challenge posed by CERN required a solution that would be scalable to process data being generated at the rate of 3 petabytes per year and effectively distinguish an extremely rare signal from background noises in a complex physical process. XGBoost emerged as the most useful, straightforward and robust solution.\n",
        "\n",
        "(https://www.analyticsvidhya.com/blog/2018/09/an-end-to-end-guide-to-understand-the-math-behind-xgboost/)"
      ]
    },
    {
      "cell_type": "code",
      "metadata": {
        "id": "zeSu0wfugBQ8",
        "colab_type": "code",
        "outputId": "c05d6e48-1550-4edf-9d57-22d4dd11d0e2",
        "colab": {
          "base_uri": "https://localhost:8080/",
          "height": 34
        }
      },
      "source": [
        "xg_model = xgb.XGBClassifier()\n",
        "xg_model = xg_model.fit(x_train,y_train)\n",
        "xg_model.score(x_test, y_test)"
      ],
      "execution_count": 0,
      "outputs": [
        {
          "output_type": "execute_result",
          "data": {
            "text/plain": [
              "0.7705627705627706"
            ]
          },
          "metadata": {
            "tags": []
          },
          "execution_count": 16
        }
      ]
    },
    {
      "cell_type": "markdown",
      "metadata": {
        "id": "I69hsZuKY60Z",
        "colab_type": "text"
      },
      "source": [
        "# **Prepare Train and Test**\n",
        "scikit-learn provides a helpful function for partitioning data, train_test_split, which splits out your data into a training set and a test set.\n",
        "\n",
        "Training set for fitting the model Test set for evaluation only\n",
        "\n",
        "The steps to building and using a model are:\n",
        "\n",
        "**Define**: What type of model will it be? A decision tree? Some other type of model? Some other parameters of the model type are specified too.\n",
        "\n",
        "**Fit**: Capture patterns from provided data. This is the heart of modeling.\n",
        "\n",
        "**Predict**: Just what it sounds like\n",
        "\n",
        "**Evaluate**: Determine how accurate the model's predictions are."
      ]
    },
    {
      "cell_type": "code",
      "metadata": {
        "id": "mWVkQiVNWSTZ",
        "colab_type": "code",
        "colab": {}
      },
      "source": [
        "train_X = train[['Pregnancies','Glucose','BloodPressure','SkinThickness','Insulin','BMI','DiabetesPedigreeFunction','Age']]# taking the training data features\n",
        "train_y=train.Outcome# output of our training data\n",
        "test_X= test[['Pregnancies','Glucose','BloodPressure','SkinThickness','Insulin','BMI','DiabetesPedigreeFunction','Age']] # taking test data features\n",
        "test_y =test.Outcome   #output value of test data"
      ],
      "execution_count": 0,
      "outputs": []
    },
    {
      "cell_type": "code",
      "metadata": {
        "id": "nSgoPwN2VtMm",
        "colab_type": "code",
        "colab": {}
      },
      "source": [
        "x = data[['Pregnancies','Glucose','BloodPressure','SkinThickness','Insulin','BMI','DiabetesPedigreeFunction','Age']]\n",
        "y = data['Outcome']"
      ],
      "execution_count": 0,
      "outputs": []
    },
    {
      "cell_type": "markdown",
      "metadata": {
        "id": "csY3Y8yjG9t_",
        "colab_type": "text"
      },
      "source": [
        ""
      ]
    },
    {
      "cell_type": "markdown",
      "metadata": {
        "id": "URZEIf16Y5zp",
        "colab_type": "text"
      },
      "source": [
        "# **List of 17 algorithms (train + test algo)**\n",
        "\n",
        "\n",
        "1.Decision Tree\n",
        "\n",
        "2.RandomForest"
      ]
    },
    {
      "cell_type": "markdown",
      "metadata": {
        "id": "O38nBywPGsYJ",
        "colab_type": "text"
      },
      "source": [
        "# **1.Decision Tree**"
      ]
    },
    {
      "cell_type": "code",
      "metadata": {
        "id": "tPuuDkENDdoC",
        "colab_type": "code",
        "outputId": "a6984b33-e7e9-4278-d947-6adeafbafca4",
        "colab": {
          "base_uri": "https://localhost:8080/",
          "height": 230
        }
      },
      "source": [
        "\n",
        "# Decision Tree's\n",
        "from sklearn.tree import DecisionTreeClassifier # মডেল + মডেল ক্লাস\n",
        "\n",
        "Model = DecisionTreeClassifier()\n",
        "\n",
        "Model.fit(train_X, train_y)\n",
        "\n",
        "y_predL = Model.predict(test_X)\n",
        "\n",
        "# Summary of the predictions made by the classifier\n",
        "print(classification_report(test_y, y_predL))\n",
        "print(confusion_matrix(test_y, y_predL))\n",
        "# Accuracy score\n",
        "print('accuracy is',accuracy_score(y_predL,test_y))"
      ],
      "execution_count": 0,
      "outputs": [
        {
          "output_type": "stream",
          "text": [
            "              precision    recall  f1-score   support\n",
            "\n",
            "           0       0.76      0.87      0.81       149\n",
            "           1       0.68      0.51      0.58        82\n",
            "\n",
            "    accuracy                           0.74       231\n",
            "   macro avg       0.72      0.69      0.70       231\n",
            "weighted avg       0.73      0.74      0.73       231\n",
            "\n",
            "[[129  20]\n",
            " [ 40  42]]\n",
            "accuracy is 0.7402597402597403\n"
          ],
          "name": "stdout"
        }
      ]
    },
    {
      "cell_type": "code",
      "metadata": {
        "id": "MEHZPRyUdJBB",
        "colab_type": "code",
        "colab": {}
      },
      "source": [
        ""
      ],
      "execution_count": 0,
      "outputs": []
    },
    {
      "cell_type": "markdown",
      "metadata": {
        "id": "WJs0RYE4P8yr",
        "colab_type": "text"
      },
      "source": [
        "# **2.RandomForest**\n",
        "\n",
        "---\n",
        "\n"
      ]
    },
    {
      "cell_type": "code",
      "metadata": {
        "id": "X02Ijv3QP88p",
        "colab_type": "code",
        "outputId": "78382d47-6ad2-45b3-e006-d4a9f638d2a7",
        "colab": {
          "base_uri": "https://localhost:8080/",
          "height": 230
        }
      },
      "source": [
        "from sklearn.ensemble import RandomForestClassifier\n",
        "Model=RandomForestClassifier(max_depth=2)\n",
        "\n",
        "Model.fit(train_X, train_y)\n",
        "\n",
        "y_predL = Model.predict(test_X)\n",
        "\n",
        "# Summary of the predictions made by the classifier\n",
        "print(classification_report(test_y, y_predL))\n",
        "print(confusion_matrix(test_y, y_predL))\n",
        "# Accuracy score\n",
        "print('accuracy is',accuracy_score(y_predL,test_y))"
      ],
      "execution_count": 0,
      "outputs": [
        {
          "output_type": "stream",
          "text": [
            "              precision    recall  f1-score   support\n",
            "\n",
            "           0       0.74      0.94      0.83       149\n",
            "           1       0.78      0.39      0.52        82\n",
            "\n",
            "    accuracy                           0.74       231\n",
            "   macro avg       0.76      0.66      0.67       231\n",
            "weighted avg       0.75      0.74      0.72       231\n",
            "\n",
            "[[140   9]\n",
            " [ 50  32]]\n",
            "accuracy is 0.7445887445887446\n"
          ],
          "name": "stdout"
        }
      ]
    },
    {
      "cell_type": "markdown",
      "metadata": {
        "id": "2aI8LRRBIPOW",
        "colab_type": "text"
      },
      "source": [
        "# **3 Logistic Regression**"
      ]
    },
    {
      "cell_type": "code",
      "metadata": {
        "id": "1bNQgTwMIPbH",
        "colab_type": "code",
        "outputId": "29052c5e-d7c6-40b2-ac67-f95e85ae8d48",
        "colab": {
          "base_uri": "https://localhost:8080/",
          "height": 230
        }
      },
      "source": [
        "#LogisticRegression\n",
        "\n",
        "from sklearn.linear_model import LogisticRegression\n",
        "Model = LogisticRegression()\n",
        "#from sklearn import model_selection #another type of model\n",
        "\n",
        "Model.fit(train_X, train_y)\n",
        "\n",
        "y_predL = Model.predict(test_X)\n",
        "\n",
        "# Summary of the predictions made by the classifier\n",
        "print(classification_report(test_y, y_predL))\n",
        "print(confusion_matrix(test_y, y_predL))\n",
        "# Accuracy score\n",
        "print('accuracy is',accuracy_score(y_predL,test_y))"
      ],
      "execution_count": 0,
      "outputs": [
        {
          "output_type": "stream",
          "text": [
            "              precision    recall  f1-score   support\n",
            "\n",
            "           0       0.77      0.87      0.82       149\n",
            "           1       0.70      0.54      0.61        82\n",
            "\n",
            "    accuracy                           0.75       231\n",
            "   macro avg       0.74      0.70      0.71       231\n",
            "weighted avg       0.75      0.75      0.74       231\n",
            "\n",
            "[[130  19]\n",
            " [ 38  44]]\n",
            "accuracy is 0.7532467532467533\n"
          ],
          "name": "stdout"
        }
      ]
    },
    {
      "cell_type": "markdown",
      "metadata": {
        "id": "zymHcs-8IoGP",
        "colab_type": "text"
      },
      "source": [
        "# **4 K-Nearest Neighbors**"
      ]
    },
    {
      "cell_type": "code",
      "metadata": {
        "id": "S_zIwf2ZIodN",
        "colab_type": "code",
        "outputId": "46da4b6a-76af-468a-d713-adb7ea456f6a",
        "colab": {
          "base_uri": "https://localhost:8080/",
          "height": 230
        }
      },
      "source": [
        "# K-Nearest Neighbours\n",
        "from sklearn.neighbors import KNeighborsClassifier\n",
        "\n",
        "Model = KNeighborsClassifier(n_neighbors=8)\n",
        "\n",
        "\n",
        "Model.fit(train_X, train_y)\n",
        "\n",
        "y_predL = Model.predict(test_X)\n",
        "\n",
        "# Summary of the predictions made by the classifier\n",
        "print(classification_report(test_y, y_predL))\n",
        "print(confusion_matrix(test_y, y_predL))\n",
        "# Accuracy score\n",
        "print('accuracy is',accuracy_score(y_predL,test_y))"
      ],
      "execution_count": 0,
      "outputs": [
        {
          "output_type": "stream",
          "text": [
            "              precision    recall  f1-score   support\n",
            "\n",
            "           0       0.77      0.92      0.84       149\n",
            "           1       0.78      0.51      0.62        82\n",
            "\n",
            "    accuracy                           0.77       231\n",
            "   macro avg       0.78      0.72      0.73       231\n",
            "weighted avg       0.78      0.77      0.76       231\n",
            "\n",
            "[[137  12]\n",
            " [ 40  42]]\n",
            "accuracy is 0.7748917748917749\n"
          ],
          "name": "stdout"
        }
      ]
    },
    {
      "cell_type": "markdown",
      "metadata": {
        "id": "70l5VoS2Iosn",
        "colab_type": "text"
      },
      "source": [
        "# **5 Naive Bayes**"
      ]
    },
    {
      "cell_type": "code",
      "metadata": {
        "id": "gW9MUAOPIo3T",
        "colab_type": "code",
        "outputId": "f5e854cc-7196-4661-b11a-ac0f979d3ab6",
        "colab": {
          "base_uri": "https://localhost:8080/",
          "height": 230
        }
      },
      "source": [
        "# Naive Bayes\n",
        "from sklearn.naive_bayes import GaussianNB\n",
        "Model = GaussianNB()\n",
        "\n",
        "\n",
        "Model.fit(train_X, train_y)\n",
        "\n",
        "y_predL = Model.predict(test_X)\n",
        "\n",
        "# Summary of the predictions made by the classifier\n",
        "print(classification_report(test_y, y_predL))\n",
        "print(confusion_matrix(test_y, y_predL))\n",
        "# Accuracy score\n",
        "print('accuracy is',accuracy_score(y_predL,test_y))"
      ],
      "execution_count": 0,
      "outputs": [
        {
          "output_type": "stream",
          "text": [
            "              precision    recall  f1-score   support\n",
            "\n",
            "           0       0.82      0.88      0.85       149\n",
            "           1       0.75      0.65      0.69        82\n",
            "\n",
            "    accuracy                           0.80       231\n",
            "   macro avg       0.78      0.76      0.77       231\n",
            "weighted avg       0.79      0.80      0.79       231\n",
            "\n",
            "[[131  18]\n",
            " [ 29  53]]\n",
            "accuracy is 0.7965367965367965\n"
          ],
          "name": "stdout"
        }
      ]
    },
    {
      "cell_type": "markdown",
      "metadata": {
        "id": "fv3RWpvLIpCI",
        "colab_type": "text"
      },
      "source": [
        "**6 SVM**\n"
      ]
    },
    {
      "cell_type": "code",
      "metadata": {
        "id": "lElDz1HyIpNx",
        "colab_type": "code",
        "outputId": "d1a419b6-d850-4908-e93d-6e137e98abb9",
        "colab": {
          "base_uri": "https://localhost:8080/",
          "height": 230
        }
      },
      "source": [
        "# Support Vector Machine\n",
        "from sklearn.svm import SVC\n",
        "\n",
        "Model = SVC()\n",
        "\n",
        "\n",
        "Model.fit(train_X, train_y)\n",
        "\n",
        "y_predL = Model.predict(test_X)\n",
        "\n",
        "# Summary of the predictions made by the classifier\n",
        "print(classification_report(test_y, y_predL))\n",
        "print(confusion_matrix(test_y, y_predL))\n",
        "# Accuracy score\n",
        "print('accuracy is',accuracy_score(y_predL,test_y))"
      ],
      "execution_count": 0,
      "outputs": [
        {
          "output_type": "stream",
          "text": [
            "              precision    recall  f1-score   support\n",
            "\n",
            "           0       0.65      1.00      0.78       149\n",
            "           1       0.00      0.00      0.00        82\n",
            "\n",
            "    accuracy                           0.65       231\n",
            "   macro avg       0.32      0.50      0.39       231\n",
            "weighted avg       0.42      0.65      0.51       231\n",
            "\n",
            "[[149   0]\n",
            " [ 82   0]]\n",
            "accuracy is 0.645021645021645\n"
          ],
          "name": "stdout"
        }
      ]
    },
    {
      "cell_type": "markdown",
      "metadata": {
        "id": "qxFQ5hVJIpao",
        "colab_type": "text"
      },
      "source": [
        "# **7 Nu-Support Vector Classification**"
      ]
    },
    {
      "cell_type": "code",
      "metadata": {
        "id": "g0e0UnWDIpmX",
        "colab_type": "code",
        "outputId": "d9d6546b-f65b-43ac-a254-2519baeb983b",
        "colab": {
          "base_uri": "https://localhost:8080/",
          "height": 230
        }
      },
      "source": [
        "# Support Vector Machine's \n",
        "from sklearn.svm import NuSVC\n",
        "\n",
        "ModelNU = NuSVC()\n",
        "\n",
        "\n",
        "Model.fit(train_X, train_y)\n",
        "\n",
        "y_predL = Model.predict(test_X)\n",
        "\n",
        "# Summary of the predictions made by the classifier\n",
        "print(classification_report(test_y, y_predL))\n",
        "print(confusion_matrix(test_y, y_predL))\n",
        "# Accuracy score\n",
        "print('accuracy is',accuracy_score(y_predL,test_y))"
      ],
      "execution_count": 0,
      "outputs": [
        {
          "output_type": "stream",
          "text": [
            "              precision    recall  f1-score   support\n",
            "\n",
            "           0       0.65      1.00      0.78       149\n",
            "           1       0.00      0.00      0.00        82\n",
            "\n",
            "    accuracy                           0.65       231\n",
            "   macro avg       0.32      0.50      0.39       231\n",
            "weighted avg       0.42      0.65      0.51       231\n",
            "\n",
            "[[149   0]\n",
            " [ 82   0]]\n",
            "accuracy is 0.645021645021645\n"
          ],
          "name": "stdout"
        }
      ]
    },
    {
      "cell_type": "markdown",
      "metadata": {
        "id": "yjGC9G3uIpz7",
        "colab_type": "text"
      },
      "source": [
        "# **8 Linear Support Vector Classification**"
      ]
    },
    {
      "cell_type": "code",
      "metadata": {
        "id": "h51zxYOjIp_P",
        "colab_type": "code",
        "outputId": "5a52a312-85a7-418f-fde7-8211f8b8808a",
        "colab": {
          "base_uri": "https://localhost:8080/",
          "height": 230
        }
      },
      "source": [
        "# Linear Support Vector Classification\n",
        "from sklearn.svm import LinearSVC\n",
        "\n",
        "Model = LinearSVC()\n",
        "\n",
        "\n",
        "\n",
        "Model.fit(train_X, train_y)\n",
        "\n",
        "y_predL = Model.predict(test_X)\n",
        "\n",
        "# Summary of the predictions made by the classifier\n",
        "print(classification_report(test_y, y_predL))\n",
        "print(confusion_matrix(test_y, y_predL))\n",
        "# Accuracy score\n",
        "print('accuracy is',accuracy_score(y_predL,test_y))"
      ],
      "execution_count": 0,
      "outputs": [
        {
          "output_type": "stream",
          "text": [
            "              precision    recall  f1-score   support\n",
            "\n",
            "           0       0.93      0.17      0.28       149\n",
            "           1       0.39      0.98      0.56        82\n",
            "\n",
            "    accuracy                           0.45       231\n",
            "   macro avg       0.66      0.57      0.42       231\n",
            "weighted avg       0.74      0.45      0.38       231\n",
            "\n",
            "[[ 25 124]\n",
            " [  2  80]]\n",
            "accuracy is 0.45454545454545453\n"
          ],
          "name": "stdout"
        }
      ]
    },
    {
      "cell_type": "markdown",
      "metadata": {
        "id": "zD08znYJT0sd",
        "colab_type": "text"
      },
      "source": [
        "  \n",
        "# **Linear Discriminant Analysis**\n",
        "\n",
        "(discriminant_analysis.LinearDiscriminantAnalysis) and Quadratic Discriminant Analysis (discriminant_analysis.QuadraticDiscriminantAnalysis) are two classic classifiers, with, as their names suggest, a linear and a quadratic decision surface, respectively.\n",
        "\n",
        "These classifiers are attractive because they have closed-form solutions that can be easily computed, are inherently multiclass, have proven to work well in practice, and have no hyperparameters to tune."
      ]
    },
    {
      "cell_type": "code",
      "metadata": {
        "id": "auoolevaT1BR",
        "colab_type": "code",
        "outputId": "4dce1867-627c-4cc0-82e5-5de6c4e28442",
        "colab": {
          "base_uri": "https://localhost:8080/",
          "height": 230
        }
      },
      "source": [
        " \n",
        "#from sklearn.linear_model import LinearDiscriminantAnalysis\n",
        "\n",
        "from sklearn.discriminant_analysis import LinearDiscriminantAnalysis\n",
        "Model=LinearDiscriminantAnalysis()\n",
        "\n",
        "Model.fit(train_X, train_y)\n",
        "\n",
        "y_predL = Model.predict(test_X)\n",
        "\n",
        "#Summary of the predictions made by the classifier\n",
        "print(classification_report(test_y, y_predL))\n",
        "print(confusion_matrix(test_y, y_predL))\n",
        "# Accuracy score\n",
        "print('accuracy is',accuracy_score(y_predL,test_y))"
      ],
      "execution_count": 0,
      "outputs": [
        {
          "output_type": "stream",
          "text": [
            "              precision    recall  f1-score   support\n",
            "\n",
            "           0       0.79      0.93      0.85       149\n",
            "           1       0.81      0.56      0.66        82\n",
            "\n",
            "    accuracy                           0.80       231\n",
            "   macro avg       0.80      0.74      0.76       231\n",
            "weighted avg       0.80      0.80      0.79       231\n",
            "\n",
            "[[138  11]\n",
            " [ 36  46]]\n",
            "accuracy is 0.7965367965367965\n"
          ],
          "name": "stdout"
        }
      ]
    },
    {
      "cell_type": "markdown",
      "metadata": {
        "id": "w1kWX7zEIqM3",
        "colab_type": "text"
      },
      "source": [
        "# **9 Radius Neighbors Classifier**"
      ]
    },
    {
      "cell_type": "code",
      "metadata": {
        "id": "pGTrULU1IqYX",
        "colab_type": "code",
        "outputId": "6474cab0-419c-4d06-b6cb-5cfd2fa4e8b3",
        "colab": {
          "base_uri": "https://localhost:8080/",
          "height": 230
        }
      },
      "source": [
        "from sklearn.neighbors import  RadiusNeighborsClassifier\n",
        "Model=RadiusNeighborsClassifier(radius=148)\n",
        "\n",
        "\n",
        "Model.fit(train_X, train_y)\n",
        "\n",
        "y_predL = Model.predict(test_X)\n",
        "\n",
        "# Summary of the predictions made by the classifier\n",
        "print(classification_report(test_y, y_predL))\n",
        "print(confusion_matrix(test_y, y_predL))\n",
        "# Accuracy score\n",
        "print('accuracy is',accuracy_score(y_predL,test_y))"
      ],
      "execution_count": 0,
      "outputs": [
        {
          "output_type": "stream",
          "text": [
            "              precision    recall  f1-score   support\n",
            "\n",
            "           0       0.65      0.99      0.78       149\n",
            "           1       0.60      0.04      0.07        82\n",
            "\n",
            "    accuracy                           0.65       231\n",
            "   macro avg       0.63      0.51      0.43       231\n",
            "weighted avg       0.63      0.65      0.53       231\n",
            "\n",
            "[[147   2]\n",
            " [ 79   3]]\n",
            "accuracy is 0.6493506493506493\n"
          ],
          "name": "stdout"
        }
      ]
    },
    {
      "cell_type": "markdown",
      "metadata": {
        "id": "snh-Y74sKH9B",
        "colab_type": "text"
      },
      "source": [
        "# **10 Passive Aggressive Classifier**"
      ]
    },
    {
      "cell_type": "code",
      "metadata": {
        "id": "R6-qK4Q8KINU",
        "colab_type": "code",
        "outputId": "ab8fa35e-2911-438d-a6b1-485114039930",
        "colab": {
          "base_uri": "https://localhost:8080/",
          "height": 230
        }
      },
      "source": [
        "from sklearn.linear_model import PassiveAggressiveClassifier\n",
        "Model = PassiveAggressiveClassifier()\n",
        "\n",
        "\n",
        "Model.fit(train_X, train_y)\n",
        "\n",
        "y_predL = Model.predict(test_X)\n",
        "\n",
        "# Summary of the predictions made by the classifier\n",
        "print(classification_report(test_y, y_predL))\n",
        "print(confusion_matrix(test_y, y_predL))\n",
        "# Accuracy score\n",
        "print('accuracy is',accuracy_score(y_predL,test_y))"
      ],
      "execution_count": 0,
      "outputs": [
        {
          "output_type": "stream",
          "text": [
            "              precision    recall  f1-score   support\n",
            "\n",
            "           0       1.00      0.01      0.01       149\n",
            "           1       0.36      1.00      0.53        82\n",
            "\n",
            "    accuracy                           0.36       231\n",
            "   macro avg       0.68      0.50      0.27       231\n",
            "weighted avg       0.77      0.36      0.20       231\n",
            "\n",
            "[[  1 148]\n",
            " [  0  82]]\n",
            "accuracy is 0.3593073593073593\n"
          ],
          "name": "stdout"
        }
      ]
    },
    {
      "cell_type": "markdown",
      "metadata": {
        "id": "DkUqXxXNKIg6",
        "colab_type": "text"
      },
      "source": [
        "# **11 BernoulliNB**"
      ]
    },
    {
      "cell_type": "code",
      "metadata": {
        "id": "SsUnj6ctKIp3",
        "colab_type": "code",
        "outputId": "e48d3f83-9265-48bf-ddd8-6069bd91f988",
        "colab": {
          "base_uri": "https://localhost:8080/",
          "height": 230
        }
      },
      "source": [
        "# BernoulliNB\n",
        "from sklearn.naive_bayes import BernoulliNB\n",
        "Model = BernoulliNB()\n",
        "\n",
        "\n",
        "Model.fit(train_X, train_y)\n",
        "\n",
        "y_predL = Model.predict(test_X)\n",
        "\n",
        "# Summary of the predictions made by the classifier\n",
        "print(classification_report(test_y, y_predL))\n",
        "print(confusion_matrix(test_y, y_predL))\n",
        "# Accuracy score\n",
        "print('accuracy is',accuracy_score(y_predL,test_y))"
      ],
      "execution_count": 0,
      "outputs": [
        {
          "output_type": "stream",
          "text": [
            "              precision    recall  f1-score   support\n",
            "\n",
            "           0       0.64      0.99      0.78       149\n",
            "           1       0.00      0.00      0.00        82\n",
            "\n",
            "    accuracy                           0.64       231\n",
            "   macro avg       0.32      0.49      0.39       231\n",
            "weighted avg       0.41      0.64      0.50       231\n",
            "\n",
            "[[147   2]\n",
            " [ 82   0]]\n",
            "accuracy is 0.6363636363636364\n"
          ],
          "name": "stdout"
        }
      ]
    },
    {
      "cell_type": "markdown",
      "metadata": {
        "id": "DTLgXUUCKIzf",
        "colab_type": "text"
      },
      "source": [
        "# **12 ExtraTreeClassifier**"
      ]
    },
    {
      "cell_type": "code",
      "metadata": {
        "id": "kUSMI_4qKI-k",
        "colab_type": "code",
        "outputId": "97003115-a794-45d9-bcde-a604d4ad90ad",
        "colab": {
          "base_uri": "https://localhost:8080/",
          "height": 230
        }
      },
      "source": [
        "# ExtraTreeClassifier\n",
        "from sklearn.tree import ExtraTreeClassifier\n",
        "\n",
        "Model = ExtraTreeClassifier()\n",
        "\n",
        "\n",
        "\n",
        "Model.fit(train_X, train_y)\n",
        "\n",
        "y_predL = Model.predict(test_X)\n",
        "\n",
        "# Summary of the predictions made by the classifier\n",
        "print(classification_report(test_y, y_predL))\n",
        "print(confusion_matrix(test_y, y_predL))\n",
        "# Accuracy score\n",
        "print('accuracy is',accuracy_score(y_predL,test_y))"
      ],
      "execution_count": 0,
      "outputs": [
        {
          "output_type": "stream",
          "text": [
            "              precision    recall  f1-score   support\n",
            "\n",
            "           0       0.69      0.77      0.73       149\n",
            "           1       0.47      0.37      0.41        82\n",
            "\n",
            "    accuracy                           0.63       231\n",
            "   macro avg       0.58      0.57      0.57       231\n",
            "weighted avg       0.61      0.63      0.62       231\n",
            "\n",
            "[[115  34]\n",
            " [ 52  30]]\n",
            "accuracy is 0.6277056277056277\n"
          ],
          "name": "stdout"
        }
      ]
    },
    {
      "cell_type": "markdown",
      "metadata": {
        "id": "eZqgNWZxKJKI",
        "colab_type": "text"
      },
      "source": [
        "# **13 Bagging classifier**"
      ]
    },
    {
      "cell_type": "code",
      "metadata": {
        "id": "4KYz9x2CKJUo",
        "colab_type": "code",
        "outputId": "14f75bf6-3926-4a9b-eef6-9b2d059b32df",
        "colab": {
          "base_uri": "https://localhost:8080/",
          "height": 230
        }
      },
      "source": [
        "from sklearn.ensemble import BaggingClassifier\n",
        "Model=BaggingClassifier()\n",
        "\n",
        "\n",
        "Model.fit(train_X, train_y)\n",
        "\n",
        "y_predL = Model.predict(test_X)\n",
        "\n",
        "# Summary of the predictions made by the classifier\n",
        "print(classification_report(test_y, y_predL))\n",
        "print(confusion_matrix(test_y, y_predL))\n",
        "# Accuracy score\n",
        "print('accuracy is',accuracy_score(y_predL,test_y))"
      ],
      "execution_count": 0,
      "outputs": [
        {
          "output_type": "stream",
          "text": [
            "              precision    recall  f1-score   support\n",
            "\n",
            "           0       0.79      0.89      0.84       149\n",
            "           1       0.74      0.56      0.64        82\n",
            "\n",
            "    accuracy                           0.77       231\n",
            "   macro avg       0.76      0.73      0.74       231\n",
            "weighted avg       0.77      0.77      0.77       231\n",
            "\n",
            "[[133  16]\n",
            " [ 36  46]]\n",
            "accuracy is 0.7748917748917749\n"
          ],
          "name": "stdout"
        }
      ]
    },
    {
      "cell_type": "markdown",
      "metadata": {
        "id": "TaGmRJWoKJfh",
        "colab_type": "text"
      },
      "source": [
        "# **14 AdaBoost classifier**"
      ]
    },
    {
      "cell_type": "code",
      "metadata": {
        "id": "GpryVNq9KJrV",
        "colab_type": "code",
        "outputId": "baa710b5-84fe-483b-da83-0b888fd4f98c",
        "colab": {
          "base_uri": "https://localhost:8080/",
          "height": 230
        }
      },
      "source": [
        "from sklearn.ensemble import AdaBoostClassifier\n",
        "Model=AdaBoostClassifier()\n",
        "\n",
        "Model.fit(train_X, train_y)\n",
        "\n",
        "y_predL = Model.predict(test_X)\n",
        "\n",
        "# Summary of the predictions made by the classifier\n",
        "print(classification_report(test_y, y_predL))\n",
        "print(confusion_matrix(test_y, y_predL))\n",
        "# Accuracy score\n",
        "print('accuracy is',accuracy_score(y_predL,test_y))"
      ],
      "execution_count": 0,
      "outputs": [
        {
          "output_type": "stream",
          "text": [
            "              precision    recall  f1-score   support\n",
            "\n",
            "           0       0.79      0.88      0.83       149\n",
            "           1       0.73      0.59      0.65        82\n",
            "\n",
            "    accuracy                           0.77       231\n",
            "   macro avg       0.76      0.73      0.74       231\n",
            "weighted avg       0.77      0.77      0.77       231\n",
            "\n",
            "[[131  18]\n",
            " [ 34  48]]\n",
            "accuracy is 0.7748917748917749\n"
          ],
          "name": "stdout"
        }
      ]
    },
    {
      "cell_type": "markdown",
      "metadata": {
        "id": "n-xvYbc6KJ23",
        "colab_type": "text"
      },
      "source": [
        "# **15 Gradient Boosting Classifier**"
      ]
    },
    {
      "cell_type": "code",
      "metadata": {
        "id": "tZJdacvxKKCO",
        "colab_type": "code",
        "outputId": "dec519b7-a183-490d-a509-42d499e04864",
        "colab": {
          "base_uri": "https://localhost:8080/",
          "height": 230
        }
      },
      "source": [
        "from sklearn.ensemble import GradientBoostingClassifier\n",
        "ModelG=GradientBoostingClassifier()\n",
        "\n",
        "\n",
        "Model.fit(train_X, train_y)\n",
        "\n",
        "y_predL = Model.predict(test_X)\n",
        "\n",
        "# Summary of the predictions made by the classifier\n",
        "print(classification_report(test_y, y_predL))\n",
        "print(confusion_matrix(test_y, y_predL))\n",
        "# Accuracy score\n",
        "print('accuracy is',accuracy_score(y_predL,test_y))"
      ],
      "execution_count": 0,
      "outputs": [
        {
          "output_type": "stream",
          "text": [
            "              precision    recall  f1-score   support\n",
            "\n",
            "           0       0.79      0.88      0.83       149\n",
            "           1       0.73      0.59      0.65        82\n",
            "\n",
            "    accuracy                           0.77       231\n",
            "   macro avg       0.76      0.73      0.74       231\n",
            "weighted avg       0.77      0.77      0.77       231\n",
            "\n",
            "[[131  18]\n",
            " [ 34  48]]\n",
            "accuracy is 0.7748917748917749\n"
          ],
          "name": "stdout"
        }
      ]
    },
    {
      "cell_type": "markdown",
      "metadata": {
        "id": "5BxT4vmEKKMd",
        "colab_type": "text"
      },
      "source": [
        "# **16 Linear Discriminant Analysis**"
      ]
    },
    {
      "cell_type": "code",
      "metadata": {
        "id": "C6dBihgjKKXf",
        "colab_type": "code",
        "outputId": "6964a907-b28e-44b6-ff10-1bfb1f5a3538",
        "colab": {
          "base_uri": "https://localhost:8080/",
          "height": 230
        }
      },
      "source": [
        "from sklearn.discriminant_analysis import LinearDiscriminantAnalysis\n",
        "Model=LinearDiscriminantAnalysis()\n",
        "\n",
        "Model.fit(train_X, train_y)\n",
        "\n",
        "y_predL = Model.predict(test_X)\n",
        "\n",
        "# Summary of the predictions made by the classifier\n",
        "print(classification_report(test_y, y_predL))\n",
        "print(confusion_matrix(test_y, y_predL))\n",
        "# Accuracy score\n",
        "print('accuracy is',accuracy_score(y_predL,test_y))"
      ],
      "execution_count": 0,
      "outputs": [
        {
          "output_type": "stream",
          "text": [
            "              precision    recall  f1-score   support\n",
            "\n",
            "           0       0.79      0.93      0.85       149\n",
            "           1       0.81      0.56      0.66        82\n",
            "\n",
            "    accuracy                           0.80       231\n",
            "   macro avg       0.80      0.74      0.76       231\n",
            "weighted avg       0.80      0.80      0.79       231\n",
            "\n",
            "[[138  11]\n",
            " [ 36  46]]\n",
            "accuracy is 0.7965367965367965\n"
          ],
          "name": "stdout"
        }
      ]
    },
    {
      "cell_type": "markdown",
      "metadata": {
        "id": "AxarZZCkKKhu",
        "colab_type": "text"
      },
      "source": [
        "# **17 Quadratic Discriminant Analysis**"
      ]
    },
    {
      "cell_type": "code",
      "metadata": {
        "id": "zmwWii3EKKtO",
        "colab_type": "code",
        "outputId": "0ca8020f-e899-4318-e49b-36529d41b5cd",
        "colab": {
          "base_uri": "https://localhost:8080/",
          "height": 230
        }
      },
      "source": [
        " \n",
        "from sklearn.discriminant_analysis import QuadraticDiscriminantAnalysis\n",
        "Model=QuadraticDiscriminantAnalysis()\n",
        "\n",
        "Model.fit(train_X, train_y) #ডাটাকে সাজাই ফীচার ম্যাট্রিক্স এবং টার্গেট ভেক্টরের মতো করে।\n",
        "y_predL = Model.predict(test_X) #নতুন ডাটার লেবেল প্রেডিক্ট করা।\n",
        "\n",
        "\n",
        "# Summary of the predictions made by the classifier\n",
        "print(classification_report(test_y, y_predL))\n",
        "print(confusion_matrix(test_y, y_predL))\n",
        "# Accuracy score\n",
        "print('accuracy is',accuracy_score(y_predL,test_y))"
      ],
      "execution_count": 0,
      "outputs": [
        {
          "output_type": "stream",
          "text": [
            "              precision    recall  f1-score   support\n",
            "\n",
            "           0       0.77      0.87      0.82       149\n",
            "           1       0.70      0.54      0.61        82\n",
            "\n",
            "    accuracy                           0.75       231\n",
            "   macro avg       0.74      0.70      0.71       231\n",
            "weighted avg       0.75      0.75      0.74       231\n",
            "\n",
            "[[130  19]\n",
            " [ 38  44]]\n",
            "accuracy is 0.7532467532467533\n"
          ],
          "name": "stdout"
        }
      ]
    },
    {
      "cell_type": "markdown",
      "metadata": {
        "id": "4Iz4RacHPa5b",
        "colab_type": "text"
      },
      "source": [
        "# **18.Confusion Matrix**"
      ]
    },
    {
      "cell_type": "code",
      "metadata": {
        "id": "nMw1pa43M8zb",
        "colab_type": "code",
        "outputId": "36055497-a2ba-4043-caa8-871d42405d6d",
        "colab": {
          "base_uri": "https://localhost:8080/",
          "height": 230
        }
      },
      "source": [
        "#from sklearn import model_selection\n",
        "#from sklearn.linear_model import LogisticRegression\n",
        "\n",
        "\n",
        "#from sklearn.discriminant_analysis import QuadraticDiscriminantAnalysis\n",
        "#Model=QuadraticDiscriminantAnalysis()\n",
        " \n",
        "#from sklearn import model_selection\n",
        "from sklearn.linear_model import LogisticRegression\n",
        "from sklearn.metrics import confusion_matrix\n",
        "\n",
        "Model.fit(train_X, train_y) #ডাটাকে সাজাই ফীচার ম্যাট্রিক্স এবং টার্গেট ভেক্টরের মতো করে।\n",
        "y_predL = Model.predict(test_X) #নতুন ডাটার লেবেল প্রেডিক্ট করা।\n",
        "\n",
        "\n",
        "# Summary of the predictions made by the classifier\n",
        "print(classification_report(test_y, y_predL))\n",
        "print(confusion_matrix(test_y, y_predL))\n",
        "# Accuracy score\n",
        "\n",
        "print('accuracy is',accuracy_score(y_predL,test_y))"
      ],
      "execution_count": 0,
      "outputs": [
        {
          "output_type": "stream",
          "text": [
            "              precision    recall  f1-score   support\n",
            "\n",
            "           0       0.79      0.89      0.83       149\n",
            "           1       0.73      0.56      0.63        82\n",
            "\n",
            "    accuracy                           0.77       231\n",
            "   macro avg       0.76      0.72      0.73       231\n",
            "weighted avg       0.77      0.77      0.76       231\n",
            "\n",
            "[[132  17]\n",
            " [ 36  46]]\n",
            "accuracy is 0.7705627705627706\n"
          ],
          "name": "stdout"
        }
      ]
    },
    {
      "cell_type": "markdown",
      "metadata": {
        "id": "T0z9cn7sUvrC",
        "colab_type": "text"
      },
      "source": [
        "# **19 Quadratic Discriminant Analysis**\n",
        "\n",
        "A classifier with a quadratic decision boundary, generated by fitting class conditional densities to the data and using Bayes’ rule.\n",
        "\n",
        "The model fits a Gaussian density to each class.\n"
      ]
    },
    {
      "cell_type": "code",
      "metadata": {
        "id": "BUmvIPpbSbSy",
        "colab_type": "code",
        "outputId": "0c762af3-20a2-4b2e-e2ac-aa02c3cc4548",
        "colab": {
          "base_uri": "https://localhost:8080/",
          "height": 230
        }
      },
      "source": [
        "\n",
        "\n",
        "\n",
        " \n",
        "from sklearn.discriminant_analysis import QuadraticDiscriminantAnalysis\n",
        "Model=QuadraticDiscriminantAnalysis()\n",
        "\n",
        "Model.fit(train_X, train_y) #ডাটাকে সাজাই ফীচার ম্যাট্রিক্স এবং টার্গেট ভেক্টরের মতো করে।\n",
        "y_predL = Model.predict(test_X) #নতুন ডাটার লেবেল প্রেডিক্ট করা।\n",
        "\n",
        "\n",
        "# Summary of the predictions made by the classifier\n",
        "print(classification_report(test_y, y_predL))\n",
        "print(confusion_matrix(test_y, y_predL))\n",
        "# Accuracy score\n",
        "print('accuracy is',accuracy_score(y_predL,test_y))"
      ],
      "execution_count": 0,
      "outputs": [
        {
          "output_type": "stream",
          "text": [
            "              precision    recall  f1-score   support\n",
            "\n",
            "           0       0.77      0.87      0.82       149\n",
            "           1       0.70      0.54      0.61        82\n",
            "\n",
            "    accuracy                           0.75       231\n",
            "   macro avg       0.74      0.70      0.71       231\n",
            "weighted avg       0.75      0.75      0.74       231\n",
            "\n",
            "[[130  19]\n",
            " [ 38  44]]\n",
            "accuracy is 0.7532467532467533\n"
          ],
          "name": "stdout"
        }
      ]
    },
    {
      "cell_type": "code",
      "metadata": {
        "id": "rMdPb9jnMYNG",
        "colab_type": "code",
        "colab": {}
      },
      "source": [
        "import datetime"
      ],
      "execution_count": 0,
      "outputs": []
    },
    {
      "cell_type": "code",
      "metadata": {
        "id": "XTJfmNICLqXy",
        "colab_type": "code",
        "outputId": "c737c39d-99ef-4502-a964-415c2b91a4d5",
        "colab": {
          "base_uri": "https://localhost:8080/",
          "height": 241
        }
      },
      "source": [
        "models = pd.DataFrame({\n",
        "    'Model': [\n",
        "        'Decision Tree', 'Random Forest',\n",
        "              'LogisticRegression','K-Nearest Neighbours', 'Naive Bayes', 'SVM', 'Nu-Support Vector Classification',\n",
        "             'Linear Support Vector Classification', 'Radius Neighbors Classifier', 'Passive Aggressive Classifier','BernoulliNB',\n",
        "             'ExtraTreeClassifier', \"Bagging classifier \", \"AdaBoost classifier\", 'Gradient Boosting Classifier' ,'Linear Discriminant Analysis',\n",
        "             'Quadratic Discriminant Analysis'],\n",
        "    'Score': [DT, RT,LR, KNN,NBB,SVMm, NuS,  LSVM , RNC, PAC, Ber, ETC, BCC, AdaB,  GBCC, LDAA, QDAx]})\n",
        "models.sort_values(by='Score', ascending=False)"
      ],
      "execution_count": 0,
      "outputs": [
        {
          "output_type": "error",
          "ename": "NameError",
          "evalue": "ignored",
          "traceback": [
            "\u001b[0;31m---------------------------------------------------------------------------\u001b[0m",
            "\u001b[0;31mNameError\u001b[0m                                 Traceback (most recent call last)",
            "\u001b[0;32m<ipython-input-103-8bd6168974da>\u001b[0m in \u001b[0;36m<module>\u001b[0;34m()\u001b[0m\n\u001b[1;32m      7\u001b[0m              \u001b[0;34m'ExtraTreeClassifier'\u001b[0m\u001b[0;34m,\u001b[0m \u001b[0;34m\"Bagging classifier \"\u001b[0m\u001b[0;34m,\u001b[0m \u001b[0;34m\"AdaBoost classifier\"\u001b[0m\u001b[0;34m,\u001b[0m \u001b[0;34m'Gradient Boosting Classifier'\u001b[0m \u001b[0;34m,\u001b[0m\u001b[0;34m'Linear Discriminant Analysis'\u001b[0m\u001b[0;34m,\u001b[0m\u001b[0;34m\u001b[0m\u001b[0;34m\u001b[0m\u001b[0m\n\u001b[1;32m      8\u001b[0m              'Quadratic Discriminant Analysis'],\n\u001b[0;32m----> 9\u001b[0;31m     'Score': [DT, RT,LR, KNN,NBB,SVMm, NuS,  LSVM , RNC, PAC, Ber, ETC, BCC, AdaB,  GBCC, LDAA, QDAx]})\n\u001b[0m\u001b[1;32m     10\u001b[0m \u001b[0mmodels\u001b[0m\u001b[0;34m.\u001b[0m\u001b[0msort_values\u001b[0m\u001b[0;34m(\u001b[0m\u001b[0mby\u001b[0m\u001b[0;34m=\u001b[0m\u001b[0;34m'Score'\u001b[0m\u001b[0;34m,\u001b[0m \u001b[0mascending\u001b[0m\u001b[0;34m=\u001b[0m\u001b[0;32mFalse\u001b[0m\u001b[0;34m)\u001b[0m\u001b[0;34m\u001b[0m\u001b[0;34m\u001b[0m\u001b[0m\n",
            "\u001b[0;31mNameError\u001b[0m: name 'DT' is not defined"
          ]
        }
      ]
    },
    {
      "cell_type": "markdown",
      "metadata": {
        "id": "pfJcQkwAe43P",
        "colab_type": "text"
      },
      "source": [
        "# **Compare Algorithms**\n"
      ]
    },
    {
      "cell_type": "code",
      "metadata": {
        "id": "Au3XkHev1mw3",
        "colab_type": "code",
        "colab": {}
      },
      "source": [
        ""
      ],
      "execution_count": 0,
      "outputs": []
    },
    {
      "cell_type": "code",
      "metadata": {
        "id": "fX34Y-_wdxJW",
        "colab_type": "code",
        "outputId": "9019142b-01e5-47c5-c7af-fd9980a8c1fd",
        "colab": {
          "base_uri": "https://localhost:8080/",
          "height": 401
        }
      },
      "source": [
        "# prepare models\n",
        "models = []\n",
        "models.append(('LR', LogisticRegression()))\n",
        "models.append(('LDA', LinearDiscriminantAnalysis()))\n",
        "models.append(('KNN', KNeighborsClassifier()))\n",
        "models.append(('CART', DecisionTreeClassifier()))\n",
        "models.append(('NB', GaussianNB()))\n",
        "models.append(('SVM', SVC()))\n",
        "# evaluate each model in turn\n",
        "results = []\n",
        "names = []\n",
        "scoring = 'accuracy'\n",
        "for name, model in models:\n",
        "\tkfold = model_selection.KFold(n_splits=10)\n",
        "\tcv_results = model_selection.cross_val_score(model, x, y, cv=kfold, scoring=scoring)\n",
        "\tresults.append(cv_results)\n",
        "\tnames.append(name)\n",
        "\tmsg = \"%s: %f (%f)\" % (name, cv_results.mean(), cv_results.std())\n",
        "\tprint(msg)\n",
        "# boxplot algorithm comparison\n",
        "fig = plt.figure()\n",
        "fig.suptitle('Algorithm Comparison')\n",
        "ax = fig.add_subplot(111)\n",
        "plt.boxplot(results)\n",
        "ax.set_xticklabels(names)\n",
        "plt.show()"
      ],
      "execution_count": 0,
      "outputs": [
        {
          "output_type": "stream",
          "text": [
            "LR: 0.769515 (0.048411)\n",
            "LDA: 0.773462 (0.051592)\n",
            "KNN: 0.726555 (0.061821)\n",
            "CART: 0.697779 (0.071275)\n",
            "NB: 0.755178 (0.042766)\n",
            "SVM: 0.651025 (0.072141)\n"
          ],
          "name": "stdout"
        },
        {
          "output_type": "display_data",
          "data": {
            "image/png": "[encoded data removed]",
            "text/plain": [
              "<Figure size 432x288 with 1 Axes>"
            ]
          },
          "metadata": {
            "tags": []
          }
        }
      ]
    },
    {
      "cell_type": "code",
      "metadata": {
        "id": "18_eKhro1o5W",
        "colab_type": "code",
        "colab": {}
      },
      "source": [
        " "
      ],
      "execution_count": 0,
      "outputs": []
    }
  ]
}
